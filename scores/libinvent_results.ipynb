{
  "cells": [
    {
      "cell_type": "code",
      "execution_count": 107,
      "metadata": {
        "id": "OySNZiXswCZ7"
      },
      "outputs": [],
      "source": [
        "import pandas as pd\n",
        "import numpy as np\n",
        "import matplotlib.pyplot as plt"
      ]
    },
    {
      "cell_type": "markdown",
      "metadata": {
        "id": "M_9XRQ4gwTk8"
      },
      "source": [
        "# Sampling"
      ]
    },
    {
      "cell_type": "code",
      "execution_count": 108,
      "metadata": {
        "colab": {
          "base_uri": "https://localhost:8080/",
          "height": 423
        },
        "id": "NyaAQ1iNwQ4B",
        "outputId": "946384a0-b14e-4e76-d271-9d22b349e8ba"
      },
      "outputs": [
        {
          "data": {
            "text/html": [
              "<div>\n",
              "<style scoped>\n",
              "    .dataframe tbody tr th:only-of-type {\n",
              "        vertical-align: middle;\n",
              "    }\n",
              "\n",
              "    .dataframe tbody tr th {\n",
              "        vertical-align: top;\n",
              "    }\n",
              "\n",
              "    .dataframe thead th {\n",
              "        text-align: right;\n",
              "    }\n",
              "</style>\n",
              "<table border=\"1\" class=\"dataframe\">\n",
              "  <thead>\n",
              "    <tr style=\"text-align: right;\">\n",
              "      <th></th>\n",
              "      <th>smiles</th>\n",
              "      <th>bioactivity</th>\n",
              "      <th>QED</th>\n",
              "      <th>sascore</th>\n",
              "      <th>rascore</th>\n",
              "      <th>lipinski_ro5</th>\n",
              "      <th>lipinski_ro3</th>\n",
              "      <th>tox_groups</th>\n",
              "      <th>diversity</th>\n",
              "    </tr>\n",
              "  </thead>\n",
              "  <tbody>\n",
              "    <tr>\n",
              "      <th>51</th>\n",
              "      <td>CCC(C)(O)C#[C:1][CH:1]1CN(c2cc[c:0](-[c:0]3c(C...</td>\n",
              "      <td>0.196478</td>\n",
              "      <td>0.410323</td>\n",
              "      <td>4.346180</td>\n",
              "      <td>0.360400</td>\n",
              "      <td>True</td>\n",
              "      <td>False</td>\n",
              "      <td>0</td>\n",
              "      <td>0.505495</td>\n",
              "    </tr>\n",
              "    <tr>\n",
              "      <th>106</th>\n",
              "      <td>C#CN1CCCC(c2c(C(=O)Nc3ccc(-n4cncn4)cc3)no[c:0]...</td>\n",
              "      <td>0.239892</td>\n",
              "      <td>0.215820</td>\n",
              "      <td>4.672632</td>\n",
              "      <td>0.258138</td>\n",
              "      <td>True</td>\n",
              "      <td>False</td>\n",
              "      <td>2</td>\n",
              "      <td>0.514880</td>\n",
              "    </tr>\n",
              "    <tr>\n",
              "      <th>685</th>\n",
              "      <td>CC(=O)N1Cc2cnc([NH:0][c:0]3ccc(N4C[CH:1]([C:1]...</td>\n",
              "      <td>0.338094</td>\n",
              "      <td>0.538008</td>\n",
              "      <td>5.229198</td>\n",
              "      <td>0.523976</td>\n",
              "      <td>False</td>\n",
              "      <td>False</td>\n",
              "      <td>0</td>\n",
              "      <td>0.521188</td>\n",
              "    </tr>\n",
              "    <tr>\n",
              "      <th>851</th>\n",
              "      <td>CN(CC#N)C(=O)C1(c2ccc[c:1](-[c:1]3ccc4c(c3)OCC...</td>\n",
              "      <td>0.351700</td>\n",
              "      <td>0.339185</td>\n",
              "      <td>4.267551</td>\n",
              "      <td>0.005969</td>\n",
              "      <td>True</td>\n",
              "      <td>False</td>\n",
              "      <td>1</td>\n",
              "      <td>0.538238</td>\n",
              "    </tr>\n",
              "    <tr>\n",
              "      <th>242</th>\n",
              "      <td>N#C[CH2:0][CH:0]1OC(=O)N2c3cc[c:1](-[c:1]4[nH]...</td>\n",
              "      <td>0.384988</td>\n",
              "      <td>0.903566</td>\n",
              "      <td>4.033282</td>\n",
              "      <td>0.043720</td>\n",
              "      <td>True</td>\n",
              "      <td>False</td>\n",
              "      <td>0</td>\n",
              "      <td>0.537226</td>\n",
              "    </tr>\n",
              "    <tr>\n",
              "      <th>...</th>\n",
              "      <td>...</td>\n",
              "      <td>...</td>\n",
              "      <td>...</td>\n",
              "      <td>...</td>\n",
              "      <td>...</td>\n",
              "      <td>...</td>\n",
              "      <td>...</td>\n",
              "      <td>...</td>\n",
              "      <td>...</td>\n",
              "    </tr>\n",
              "    <tr>\n",
              "      <th>153</th>\n",
              "      <td>COc1ccc([C:1](C)(O)[CH:1]2CN(c3cc[c:0]([CH3:0]...</td>\n",
              "      <td>37.904873</td>\n",
              "      <td>0.936438</td>\n",
              "      <td>3.053229</td>\n",
              "      <td>0.869241</td>\n",
              "      <td>True</td>\n",
              "      <td>False</td>\n",
              "      <td>0</td>\n",
              "      <td>0.476882</td>\n",
              "    </tr>\n",
              "    <tr>\n",
              "      <th>435</th>\n",
              "      <td>O=C1NC(Cc2cc[c:1](-[c:1]3ccncc3)cc2)[CH:0]([CH...</td>\n",
              "      <td>43.033259</td>\n",
              "      <td>0.860156</td>\n",
              "      <td>3.279796</td>\n",
              "      <td>0.483597</td>\n",
              "      <td>True</td>\n",
              "      <td>False</td>\n",
              "      <td>0</td>\n",
              "      <td>0.380051</td>\n",
              "    </tr>\n",
              "    <tr>\n",
              "      <th>408</th>\n",
              "      <td>CC(C)(C)OC(=O)N1CC[N:1]([c:1]2ccc(N3C[CH:0]([C...</td>\n",
              "      <td>50.350839</td>\n",
              "      <td>0.737938</td>\n",
              "      <td>3.144935</td>\n",
              "      <td>0.995280</td>\n",
              "      <td>True</td>\n",
              "      <td>False</td>\n",
              "      <td>0</td>\n",
              "      <td>0.434101</td>\n",
              "    </tr>\n",
              "    <tr>\n",
              "      <th>253</th>\n",
              "      <td>C[CH:0](Cc1ccc(Cl)c(Cl)c1)[CH:0]1CN(c2cc[c:1](...</td>\n",
              "      <td>52.328598</td>\n",
              "      <td>0.492865</td>\n",
              "      <td>3.453158</td>\n",
              "      <td>0.988808</td>\n",
              "      <td>False</td>\n",
              "      <td>False</td>\n",
              "      <td>0</td>\n",
              "      <td>0.489598</td>\n",
              "    </tr>\n",
              "    <tr>\n",
              "      <th>395</th>\n",
              "      <td>CN(O)C(=O)[C:1](C)(C)[CH:1]1CN(c2cc[c:0](-[c:0...</td>\n",
              "      <td>54.998341</td>\n",
              "      <td>0.533016</td>\n",
              "      <td>3.520862</td>\n",
              "      <td>0.847518</td>\n",
              "      <td>True</td>\n",
              "      <td>False</td>\n",
              "      <td>1</td>\n",
              "      <td>0.483271</td>\n",
              "    </tr>\n",
              "  </tbody>\n",
              "</table>\n",
              "<p>1000 rows × 9 columns</p>\n",
              "</div>"
            ],
            "text/plain": [
              "                                                smiles  bioactivity       QED  \\\n",
              "51   CCC(C)(O)C#[C:1][CH:1]1CN(c2cc[c:0](-[c:0]3c(C...     0.196478  0.410323   \n",
              "106  C#CN1CCCC(c2c(C(=O)Nc3ccc(-n4cncn4)cc3)no[c:0]...     0.239892  0.215820   \n",
              "685  CC(=O)N1Cc2cnc([NH:0][c:0]3ccc(N4C[CH:1]([C:1]...     0.338094  0.538008   \n",
              "851  CN(CC#N)C(=O)C1(c2ccc[c:1](-[c:1]3ccc4c(c3)OCC...     0.351700  0.339185   \n",
              "242  N#C[CH2:0][CH:0]1OC(=O)N2c3cc[c:1](-[c:1]4[nH]...     0.384988  0.903566   \n",
              "..                                                 ...          ...       ...   \n",
              "153  COc1ccc([C:1](C)(O)[CH:1]2CN(c3cc[c:0]([CH3:0]...    37.904873  0.936438   \n",
              "435  O=C1NC(Cc2cc[c:1](-[c:1]3ccncc3)cc2)[CH:0]([CH...    43.033259  0.860156   \n",
              "408  CC(C)(C)OC(=O)N1CC[N:1]([c:1]2ccc(N3C[CH:0]([C...    50.350839  0.737938   \n",
              "253  C[CH:0](Cc1ccc(Cl)c(Cl)c1)[CH:0]1CN(c2cc[c:1](...    52.328598  0.492865   \n",
              "395  CN(O)C(=O)[C:1](C)(C)[CH:1]1CN(c2cc[c:0](-[c:0...    54.998341  0.533016   \n",
              "\n",
              "      sascore   rascore  lipinski_ro5  lipinski_ro3  tox_groups  diversity  \n",
              "51   4.346180  0.360400          True         False           0   0.505495  \n",
              "106  4.672632  0.258138          True         False           2   0.514880  \n",
              "685  5.229198  0.523976         False         False           0   0.521188  \n",
              "851  4.267551  0.005969          True         False           1   0.538238  \n",
              "242  4.033282  0.043720          True         False           0   0.537226  \n",
              "..        ...       ...           ...           ...         ...        ...  \n",
              "153  3.053229  0.869241          True         False           0   0.476882  \n",
              "435  3.279796  0.483597          True         False           0   0.380051  \n",
              "408  3.144935  0.995280          True         False           0   0.434101  \n",
              "253  3.453158  0.988808         False         False           0   0.489598  \n",
              "395  3.520862  0.847518          True         False           1   0.483271  \n",
              "\n",
              "[1000 rows x 9 columns]"
            ]
          },
          "execution_count": 108,
          "metadata": {},
          "output_type": "execute_result"
        }
      ],
      "source": [
        "df1 = pd.read_csv('nina_libinvent__result.csv')\n",
        "df1['bioactivity'] = df1.bioactivity.apply(lambda x: 10**x)\n",
        "df1 = df1.sort_values(by=['bioactivity'])\n",
        "df1"
      ]
    },
    {
      "cell_type": "code",
      "execution_count": 109,
      "metadata": {
        "colab": {
          "base_uri": "https://localhost:8080/"
        },
        "id": "Ns6vpMEMweO8",
        "outputId": "bbcd22e8-43f5-4ee5-ec10-cf56c19d198f"
      },
      "outputs": [
        {
          "data": {
            "text/plain": [
              "count    1000.000000\n",
              "mean        6.283108\n",
              "std         6.063158\n",
              "min         0.196478\n",
              "25%         2.405573\n",
              "50%         4.496107\n",
              "75%         8.056174\n",
              "max        54.998341\n",
              "Name: bioactivity, dtype: float64"
            ]
          },
          "execution_count": 109,
          "metadata": {},
          "output_type": "execute_result"
        }
      ],
      "source": [
        "df1.bioactivity.describe()"
      ]
    },
    {
      "cell_type": "code",
      "execution_count": 110,
      "metadata": {},
      "outputs": [
        {
          "data": {
            "text/plain": [
              "count    1000.000000\n",
              "mean        0.640440\n",
              "std         0.378112\n",
              "min        -0.706687\n",
              "25%         0.381219\n",
              "50%         0.652837\n",
              "75%         0.906128\n",
              "max         1.740350\n",
              "Name: bioactivity, dtype: float64"
            ]
          },
          "execution_count": 110,
          "metadata": {},
          "output_type": "execute_result"
        }
      ],
      "source": [
        "df1['bioactivity'] = df1.bioactivity.apply(lambda x: np.log10(x))\n",
        "df1.bioactivity.describe()"
      ]
    },
    {
      "cell_type": "code",
      "execution_count": 111,
      "metadata": {
        "colab": {
          "base_uri": "https://localhost:8080/"
        },
        "id": "kvs0xgTXwuKT",
        "outputId": "c36f82e3-1121-4e71-8c72-8680f20cc6d6"
      },
      "outputs": [
        {
          "data": {
            "text/plain": [
              "lipinski_ro5\n",
              "True     911\n",
              "False     89\n",
              "Name: count, dtype: int64"
            ]
          },
          "execution_count": 111,
          "metadata": {},
          "output_type": "execute_result"
        }
      ],
      "source": [
        "df1.lipinski_ro5.value_counts()"
      ]
    },
    {
      "cell_type": "code",
      "execution_count": 112,
      "metadata": {
        "colab": {
          "base_uri": "https://localhost:8080/"
        },
        "id": "X71HQmsow7o0",
        "outputId": "edae1c16-1d5d-4f1b-9d05-262142fd248b"
      },
      "outputs": [
        {
          "data": {
            "text/plain": [
              "lipinski_ro3\n",
              "False    909\n",
              "True      91\n",
              "Name: count, dtype: int64"
            ]
          },
          "execution_count": 112,
          "metadata": {},
          "output_type": "execute_result"
        }
      ],
      "source": [
        "df1.lipinski_ro3.value_counts()"
      ]
    },
    {
      "cell_type": "code",
      "execution_count": 113,
      "metadata": {
        "colab": {
          "base_uri": "https://localhost:8080/"
        },
        "id": "bGLMT6kjw9Fc",
        "outputId": "b7cb5c38-28ac-4369-f2fc-3cdfcb4a0f11"
      },
      "outputs": [
        {
          "data": {
            "text/plain": [
              "tox_groups\n",
              "0    793\n",
              "1    182\n",
              "2     21\n",
              "3      4\n",
              "Name: count, dtype: int64"
            ]
          },
          "execution_count": 113,
          "metadata": {},
          "output_type": "execute_result"
        }
      ],
      "source": [
        "df1.tox_groups.value_counts()"
      ]
    },
    {
      "cell_type": "code",
      "execution_count": 114,
      "metadata": {
        "colab": {
          "base_uri": "https://localhost:8080/"
        },
        "id": "hCr76YFTxFCi",
        "outputId": "dbb581d9-a60e-4608-d40a-75f99d35425d"
      },
      "outputs": [
        {
          "data": {
            "text/plain": [
              "count    1000.000000\n",
              "mean        3.716408\n",
              "std         0.482484\n",
              "min         2.491941\n",
              "25%         3.364869\n",
              "50%         3.659523\n",
              "75%         4.003227\n",
              "max         6.387588\n",
              "Name: sascore, dtype: float64"
            ]
          },
          "execution_count": 114,
          "metadata": {},
          "output_type": "execute_result"
        }
      ],
      "source": [
        "df1.sascore.describe()"
      ]
    },
    {
      "cell_type": "code",
      "execution_count": 115,
      "metadata": {
        "colab": {
          "base_uri": "https://localhost:8080/"
        },
        "id": "VDy0wDuR2Zfp",
        "outputId": "b5c6e2ca-b87b-4e75-8fd9-c963bd0c7774"
      },
      "outputs": [
        {
          "data": {
            "text/plain": [
              "count    1000.000000\n",
              "mean        0.639309\n",
              "std         0.220671\n",
              "min         0.022406\n",
              "25%         0.488369\n",
              "50%         0.686652\n",
              "75%         0.821515\n",
              "max         0.946147\n",
              "Name: QED, dtype: float64"
            ]
          },
          "execution_count": 115,
          "metadata": {},
          "output_type": "execute_result"
        }
      ],
      "source": [
        "df1.QED.describe()"
      ]
    },
    {
      "cell_type": "code",
      "execution_count": 116,
      "metadata": {},
      "outputs": [
        {
          "data": {
            "text/plain": [
              "count    1000.000000\n",
              "mean        0.480425\n",
              "std         0.054463\n",
              "min         0.298643\n",
              "25%         0.447750\n",
              "50%         0.489990\n",
              "75%         0.517647\n",
              "max         0.565920\n",
              "Name: diversity, dtype: float64"
            ]
          },
          "execution_count": 116,
          "metadata": {},
          "output_type": "execute_result"
        }
      ],
      "source": [
        "df1.diversity.describe()"
      ]
    },
    {
      "cell_type": "markdown",
      "metadata": {},
      "source": [
        "#### top 100"
      ]
    },
    {
      "cell_type": "code",
      "execution_count": 117,
      "metadata": {},
      "outputs": [
        {
          "data": {
            "text/html": [
              "<div>\n",
              "<style scoped>\n",
              "    .dataframe tbody tr th:only-of-type {\n",
              "        vertical-align: middle;\n",
              "    }\n",
              "\n",
              "    .dataframe tbody tr th {\n",
              "        vertical-align: top;\n",
              "    }\n",
              "\n",
              "    .dataframe thead th {\n",
              "        text-align: right;\n",
              "    }\n",
              "</style>\n",
              "<table border=\"1\" class=\"dataframe\">\n",
              "  <thead>\n",
              "    <tr style=\"text-align: right;\">\n",
              "      <th></th>\n",
              "      <th>smiles</th>\n",
              "      <th>bioactivity</th>\n",
              "      <th>QED</th>\n",
              "      <th>sascore</th>\n",
              "      <th>rascore</th>\n",
              "      <th>lipinski_ro5</th>\n",
              "      <th>lipinski_ro3</th>\n",
              "      <th>tox_groups</th>\n",
              "      <th>diversity</th>\n",
              "    </tr>\n",
              "  </thead>\n",
              "  <tbody>\n",
              "    <tr>\n",
              "      <th>51</th>\n",
              "      <td>CCC(C)(O)C#[C:1][CH:1]1CN(c2cc[c:0](-[c:0]3c(C...</td>\n",
              "      <td>0.196478</td>\n",
              "      <td>0.410323</td>\n",
              "      <td>4.346180</td>\n",
              "      <td>0.360400</td>\n",
              "      <td>True</td>\n",
              "      <td>False</td>\n",
              "      <td>0</td>\n",
              "      <td>0.505495</td>\n",
              "    </tr>\n",
              "    <tr>\n",
              "      <th>106</th>\n",
              "      <td>C#CN1CCCC(c2c(C(=O)Nc3ccc(-n4cncn4)cc3)no[c:0]...</td>\n",
              "      <td>0.239892</td>\n",
              "      <td>0.215820</td>\n",
              "      <td>4.672632</td>\n",
              "      <td>0.258138</td>\n",
              "      <td>True</td>\n",
              "      <td>False</td>\n",
              "      <td>2</td>\n",
              "      <td>0.514880</td>\n",
              "    </tr>\n",
              "    <tr>\n",
              "      <th>685</th>\n",
              "      <td>CC(=O)N1Cc2cnc([NH:0][c:0]3ccc(N4C[CH:1]([C:1]...</td>\n",
              "      <td>0.338094</td>\n",
              "      <td>0.538008</td>\n",
              "      <td>5.229198</td>\n",
              "      <td>0.523976</td>\n",
              "      <td>False</td>\n",
              "      <td>False</td>\n",
              "      <td>0</td>\n",
              "      <td>0.521188</td>\n",
              "    </tr>\n",
              "    <tr>\n",
              "      <th>851</th>\n",
              "      <td>CN(CC#N)C(=O)C1(c2ccc[c:1](-[c:1]3ccc4c(c3)OCC...</td>\n",
              "      <td>0.351700</td>\n",
              "      <td>0.339185</td>\n",
              "      <td>4.267551</td>\n",
              "      <td>0.005969</td>\n",
              "      <td>True</td>\n",
              "      <td>False</td>\n",
              "      <td>1</td>\n",
              "      <td>0.538238</td>\n",
              "    </tr>\n",
              "    <tr>\n",
              "      <th>242</th>\n",
              "      <td>N#C[CH2:0][CH:0]1OC(=O)N2c3cc[c:1](-[c:1]4[nH]...</td>\n",
              "      <td>0.384988</td>\n",
              "      <td>0.903566</td>\n",
              "      <td>4.033282</td>\n",
              "      <td>0.043720</td>\n",
              "      <td>True</td>\n",
              "      <td>False</td>\n",
              "      <td>0</td>\n",
              "      <td>0.537226</td>\n",
              "    </tr>\n",
              "    <tr>\n",
              "      <th>...</th>\n",
              "      <td>...</td>\n",
              "      <td>...</td>\n",
              "      <td>...</td>\n",
              "      <td>...</td>\n",
              "      <td>...</td>\n",
              "      <td>...</td>\n",
              "      <td>...</td>\n",
              "      <td>...</td>\n",
              "      <td>...</td>\n",
              "    </tr>\n",
              "    <tr>\n",
              "      <th>77</th>\n",
              "      <td>COC(=O)c1ccc(NC(=O)[C:0](C)(C)[CH:0]2OC(=O)N3c...</td>\n",
              "      <td>1.399570</td>\n",
              "      <td>0.381514</td>\n",
              "      <td>4.018134</td>\n",
              "      <td>0.115637</td>\n",
              "      <td>True</td>\n",
              "      <td>False</td>\n",
              "      <td>0</td>\n",
              "      <td>0.537152</td>\n",
              "    </tr>\n",
              "    <tr>\n",
              "      <th>101</th>\n",
              "      <td>C[N:0](C)[CH:0]1OC(=O)N2c3cc[c:1](-[c:1]4ccc(F...</td>\n",
              "      <td>1.404564</td>\n",
              "      <td>0.380919</td>\n",
              "      <td>3.965815</td>\n",
              "      <td>0.037872</td>\n",
              "      <td>True</td>\n",
              "      <td>False</td>\n",
              "      <td>0</td>\n",
              "      <td>0.498995</td>\n",
              "    </tr>\n",
              "    <tr>\n",
              "      <th>119</th>\n",
              "      <td>C[C:0](C)(O)[CH:0]1CN(c2cc[c:1]([NH:1]c3ccnc4c...</td>\n",
              "      <td>1.406812</td>\n",
              "      <td>0.703715</td>\n",
              "      <td>3.306500</td>\n",
              "      <td>0.395056</td>\n",
              "      <td>True</td>\n",
              "      <td>False</td>\n",
              "      <td>0</td>\n",
              "      <td>0.497984</td>\n",
              "    </tr>\n",
              "    <tr>\n",
              "      <th>581</th>\n",
              "      <td>C[C:0](C)(C#N)[CH:0]1OC(=O)N2c3cc[c:1]([N:1]4C...</td>\n",
              "      <td>1.407689</td>\n",
              "      <td>0.868843</td>\n",
              "      <td>3.993176</td>\n",
              "      <td>0.227432</td>\n",
              "      <td>True</td>\n",
              "      <td>False</td>\n",
              "      <td>0</td>\n",
              "      <td>0.537807</td>\n",
              "    </tr>\n",
              "    <tr>\n",
              "      <th>874</th>\n",
              "      <td>Cc1cc(C#N)c[c:1](-[c:1]2ccc(CC3NC(=O)O[CH:0]3[...</td>\n",
              "      <td>1.419025</td>\n",
              "      <td>0.886022</td>\n",
              "      <td>3.465790</td>\n",
              "      <td>0.203984</td>\n",
              "      <td>True</td>\n",
              "      <td>False</td>\n",
              "      <td>0</td>\n",
              "      <td>0.439880</td>\n",
              "    </tr>\n",
              "  </tbody>\n",
              "</table>\n",
              "<p>100 rows × 9 columns</p>\n",
              "</div>"
            ],
            "text/plain": [
              "                                                smiles  bioactivity       QED  \\\n",
              "51   CCC(C)(O)C#[C:1][CH:1]1CN(c2cc[c:0](-[c:0]3c(C...     0.196478  0.410323   \n",
              "106  C#CN1CCCC(c2c(C(=O)Nc3ccc(-n4cncn4)cc3)no[c:0]...     0.239892  0.215820   \n",
              "685  CC(=O)N1Cc2cnc([NH:0][c:0]3ccc(N4C[CH:1]([C:1]...     0.338094  0.538008   \n",
              "851  CN(CC#N)C(=O)C1(c2ccc[c:1](-[c:1]3ccc4c(c3)OCC...     0.351700  0.339185   \n",
              "242  N#C[CH2:0][CH:0]1OC(=O)N2c3cc[c:1](-[c:1]4[nH]...     0.384988  0.903566   \n",
              "..                                                 ...          ...       ...   \n",
              "77   COC(=O)c1ccc(NC(=O)[C:0](C)(C)[CH:0]2OC(=O)N3c...     1.399570  0.381514   \n",
              "101  C[N:0](C)[CH:0]1OC(=O)N2c3cc[c:1](-[c:1]4ccc(F...     1.404564  0.380919   \n",
              "119  C[C:0](C)(O)[CH:0]1CN(c2cc[c:1]([NH:1]c3ccnc4c...     1.406812  0.703715   \n",
              "581  C[C:0](C)(C#N)[CH:0]1OC(=O)N2c3cc[c:1]([N:1]4C...     1.407689  0.868843   \n",
              "874  Cc1cc(C#N)c[c:1](-[c:1]2ccc(CC3NC(=O)O[CH:0]3[...     1.419025  0.886022   \n",
              "\n",
              "      sascore   rascore  lipinski_ro5  lipinski_ro3  tox_groups  diversity  \n",
              "51   4.346180  0.360400          True         False           0   0.505495  \n",
              "106  4.672632  0.258138          True         False           2   0.514880  \n",
              "685  5.229198  0.523976         False         False           0   0.521188  \n",
              "851  4.267551  0.005969          True         False           1   0.538238  \n",
              "242  4.033282  0.043720          True         False           0   0.537226  \n",
              "..        ...       ...           ...           ...         ...        ...  \n",
              "77   4.018134  0.115637          True         False           0   0.537152  \n",
              "101  3.965815  0.037872          True         False           0   0.498995  \n",
              "119  3.306500  0.395056          True         False           0   0.497984  \n",
              "581  3.993176  0.227432          True         False           0   0.537807  \n",
              "874  3.465790  0.203984          True         False           0   0.439880  \n",
              "\n",
              "[100 rows x 9 columns]"
            ]
          },
          "execution_count": 117,
          "metadata": {},
          "output_type": "execute_result"
        }
      ],
      "source": [
        "df1 = pd.read_csv('nina_libinvent__result.csv')\n",
        "df1['bioactivity'] = df1.bioactivity.apply(lambda x: 10**x)\n",
        "df1 = df1.sort_values(by=['bioactivity'])\n",
        "df1 = df1.iloc[:100]\n",
        "df1"
      ]
    },
    {
      "cell_type": "code",
      "execution_count": 118,
      "metadata": {},
      "outputs": [
        {
          "data": {
            "text/plain": [
              "count    100.000000\n",
              "mean       0.996368\n",
              "std        0.319583\n",
              "min        0.196478\n",
              "25%        0.756367\n",
              "50%        1.032886\n",
              "75%        1.267750\n",
              "max        1.419025\n",
              "Name: bioactivity, dtype: float64"
            ]
          },
          "execution_count": 118,
          "metadata": {},
          "output_type": "execute_result"
        }
      ],
      "source": [
        "df1.bioactivity.describe()"
      ]
    },
    {
      "cell_type": "code",
      "execution_count": 119,
      "metadata": {},
      "outputs": [
        {
          "data": {
            "text/plain": [
              "count    100.000000\n",
              "mean       0.623822\n",
              "std        0.216418\n",
              "min        0.159023\n",
              "25%        0.434505\n",
              "50%        0.652234\n",
              "75%        0.806496\n",
              "max        0.940420\n",
              "Name: QED, dtype: float64"
            ]
          },
          "execution_count": 119,
          "metadata": {},
          "output_type": "execute_result"
        }
      ],
      "source": [
        "df1.QED.describe()"
      ]
    },
    {
      "cell_type": "code",
      "execution_count": 120,
      "metadata": {},
      "outputs": [
        {
          "data": {
            "text/plain": [
              "count    100.000000\n",
              "mean       3.937164\n",
              "std        0.518191\n",
              "min        2.890235\n",
              "25%        3.527898\n",
              "50%        3.936140\n",
              "75%        4.292397\n",
              "max        5.229198\n",
              "Name: sascore, dtype: float64"
            ]
          },
          "execution_count": 120,
          "metadata": {},
          "output_type": "execute_result"
        }
      ],
      "source": [
        "df1.sascore.describe()"
      ]
    },
    {
      "cell_type": "code",
      "execution_count": 121,
      "metadata": {},
      "outputs": [
        {
          "data": {
            "text/plain": [
              "count    100.000000\n",
              "mean       0.401925\n",
              "std        0.337242\n",
              "min        0.005969\n",
              "25%        0.104601\n",
              "50%        0.267189\n",
              "75%        0.716219\n",
              "max        0.993482\n",
              "Name: rascore, dtype: float64"
            ]
          },
          "execution_count": 121,
          "metadata": {},
          "output_type": "execute_result"
        }
      ],
      "source": [
        "df1.rascore.describe()"
      ]
    },
    {
      "cell_type": "code",
      "execution_count": 122,
      "metadata": {},
      "outputs": [
        {
          "data": {
            "text/plain": [
              "count    100.000000\n",
              "mean       0.509087\n",
              "std        0.037934\n",
              "min        0.380774\n",
              "25%        0.495275\n",
              "50%        0.512603\n",
              "75%        0.537170\n",
              "max        0.565920\n",
              "Name: diversity, dtype: float64"
            ]
          },
          "execution_count": 122,
          "metadata": {},
          "output_type": "execute_result"
        }
      ],
      "source": [
        "df1.diversity.describe()"
      ]
    },
    {
      "cell_type": "code",
      "execution_count": 123,
      "metadata": {},
      "outputs": [
        {
          "data": {
            "text/plain": [
              "lipinski_ro5\n",
              "True     87\n",
              "False    13\n",
              "Name: count, dtype: int64"
            ]
          },
          "execution_count": 123,
          "metadata": {},
          "output_type": "execute_result"
        }
      ],
      "source": [
        "df1.lipinski_ro5.value_counts()"
      ]
    },
    {
      "cell_type": "code",
      "execution_count": 124,
      "metadata": {},
      "outputs": [
        {
          "data": {
            "text/plain": [
              "lipinski_ro3\n",
              "False    99\n",
              "True      1\n",
              "Name: count, dtype: int64"
            ]
          },
          "execution_count": 124,
          "metadata": {},
          "output_type": "execute_result"
        }
      ],
      "source": [
        "df1.lipinski_ro3.value_counts()"
      ]
    },
    {
      "cell_type": "code",
      "execution_count": 125,
      "metadata": {},
      "outputs": [
        {
          "data": {
            "text/plain": [
              "tox_groups\n",
              "0    86\n",
              "1    10\n",
              "2     4\n",
              "Name: count, dtype: int64"
            ]
          },
          "execution_count": 125,
          "metadata": {},
          "output_type": "execute_result"
        }
      ],
      "source": [
        "df1.tox_groups.value_counts()"
      ]
    },
    {
      "cell_type": "markdown",
      "metadata": {},
      "source": [
        "#### top 10"
      ]
    },
    {
      "cell_type": "code",
      "execution_count": 126,
      "metadata": {},
      "outputs": [
        {
          "data": {
            "text/html": [
              "<div>\n",
              "<style scoped>\n",
              "    .dataframe tbody tr th:only-of-type {\n",
              "        vertical-align: middle;\n",
              "    }\n",
              "\n",
              "    .dataframe tbody tr th {\n",
              "        vertical-align: top;\n",
              "    }\n",
              "\n",
              "    .dataframe thead th {\n",
              "        text-align: right;\n",
              "    }\n",
              "</style>\n",
              "<table border=\"1\" class=\"dataframe\">\n",
              "  <thead>\n",
              "    <tr style=\"text-align: right;\">\n",
              "      <th></th>\n",
              "      <th>smiles</th>\n",
              "      <th>bioactivity</th>\n",
              "      <th>QED</th>\n",
              "      <th>sascore</th>\n",
              "      <th>rascore</th>\n",
              "      <th>lipinski_ro5</th>\n",
              "      <th>lipinski_ro3</th>\n",
              "      <th>tox_groups</th>\n",
              "      <th>diversity</th>\n",
              "    </tr>\n",
              "  </thead>\n",
              "  <tbody>\n",
              "    <tr>\n",
              "      <th>51</th>\n",
              "      <td>CCC(C)(O)C#[C:1][CH:1]1CN(c2cc[c:0](-[c:0]3c(C...</td>\n",
              "      <td>0.196478</td>\n",
              "      <td>0.410323</td>\n",
              "      <td>4.346180</td>\n",
              "      <td>0.360400</td>\n",
              "      <td>True</td>\n",
              "      <td>False</td>\n",
              "      <td>0</td>\n",
              "      <td>0.505495</td>\n",
              "    </tr>\n",
              "    <tr>\n",
              "      <th>106</th>\n",
              "      <td>C#CN1CCCC(c2c(C(=O)Nc3ccc(-n4cncn4)cc3)no[c:0]...</td>\n",
              "      <td>0.239892</td>\n",
              "      <td>0.215820</td>\n",
              "      <td>4.672632</td>\n",
              "      <td>0.258138</td>\n",
              "      <td>True</td>\n",
              "      <td>False</td>\n",
              "      <td>2</td>\n",
              "      <td>0.514880</td>\n",
              "    </tr>\n",
              "    <tr>\n",
              "      <th>685</th>\n",
              "      <td>CC(=O)N1Cc2cnc([NH:0][c:0]3ccc(N4C[CH:1]([C:1]...</td>\n",
              "      <td>0.338094</td>\n",
              "      <td>0.538008</td>\n",
              "      <td>5.229198</td>\n",
              "      <td>0.523976</td>\n",
              "      <td>False</td>\n",
              "      <td>False</td>\n",
              "      <td>0</td>\n",
              "      <td>0.521188</td>\n",
              "    </tr>\n",
              "    <tr>\n",
              "      <th>851</th>\n",
              "      <td>CN(CC#N)C(=O)C1(c2ccc[c:1](-[c:1]3ccc4c(c3)OCC...</td>\n",
              "      <td>0.351700</td>\n",
              "      <td>0.339185</td>\n",
              "      <td>4.267551</td>\n",
              "      <td>0.005969</td>\n",
              "      <td>True</td>\n",
              "      <td>False</td>\n",
              "      <td>1</td>\n",
              "      <td>0.538238</td>\n",
              "    </tr>\n",
              "    <tr>\n",
              "      <th>242</th>\n",
              "      <td>N#C[CH2:0][CH:0]1OC(=O)N2c3cc[c:1](-[c:1]4[nH]...</td>\n",
              "      <td>0.384988</td>\n",
              "      <td>0.903566</td>\n",
              "      <td>4.033282</td>\n",
              "      <td>0.043720</td>\n",
              "      <td>True</td>\n",
              "      <td>False</td>\n",
              "      <td>0</td>\n",
              "      <td>0.537226</td>\n",
              "    </tr>\n",
              "    <tr>\n",
              "      <th>24</th>\n",
              "      <td>CO[C:1](C)(C#N)[CH:1]1CN(c2cc[c:0](-[c:0]3nn(C...</td>\n",
              "      <td>0.409072</td>\n",
              "      <td>0.208544</td>\n",
              "      <td>4.462571</td>\n",
              "      <td>0.452150</td>\n",
              "      <td>False</td>\n",
              "      <td>False</td>\n",
              "      <td>0</td>\n",
              "      <td>0.527325</td>\n",
              "    </tr>\n",
              "    <tr>\n",
              "      <th>376</th>\n",
              "      <td>O=C1NC(Cc2cc[c:1](-[c:1]3csnn3)cc2)[CH:0]([C:0...</td>\n",
              "      <td>0.450696</td>\n",
              "      <td>0.803444</td>\n",
              "      <td>3.722664</td>\n",
              "      <td>0.211269</td>\n",
              "      <td>True</td>\n",
              "      <td>False</td>\n",
              "      <td>0</td>\n",
              "      <td>0.458646</td>\n",
              "    </tr>\n",
              "    <tr>\n",
              "      <th>107</th>\n",
              "      <td>CC1=NC2CCNCC2=c2s[c:1](-[c:1]3ccc(N4C[CH:0]([C...</td>\n",
              "      <td>0.469097</td>\n",
              "      <td>0.729717</td>\n",
              "      <td>4.682457</td>\n",
              "      <td>0.332106</td>\n",
              "      <td>True</td>\n",
              "      <td>False</td>\n",
              "      <td>0</td>\n",
              "      <td>0.518609</td>\n",
              "    </tr>\n",
              "    <tr>\n",
              "      <th>641</th>\n",
              "      <td>Cc1nc(-c2ccc[c:1](-[c:1]3ccc4c(c3)OCC3[CH:0]([...</td>\n",
              "      <td>0.491057</td>\n",
              "      <td>0.467531</td>\n",
              "      <td>4.169350</td>\n",
              "      <td>0.056148</td>\n",
              "      <td>True</td>\n",
              "      <td>False</td>\n",
              "      <td>0</td>\n",
              "      <td>0.525995</td>\n",
              "    </tr>\n",
              "    <tr>\n",
              "      <th>907</th>\n",
              "      <td>C[C:1](C)(c1ccc([N+](=O)[O-])s1)[CH:1]1CN(c2cc...</td>\n",
              "      <td>0.516155</td>\n",
              "      <td>0.371518</td>\n",
              "      <td>4.952421</td>\n",
              "      <td>0.449845</td>\n",
              "      <td>True</td>\n",
              "      <td>False</td>\n",
              "      <td>0</td>\n",
              "      <td>0.492692</td>\n",
              "    </tr>\n",
              "  </tbody>\n",
              "</table>\n",
              "</div>"
            ],
            "text/plain": [
              "                                                smiles  bioactivity       QED  \\\n",
              "51   CCC(C)(O)C#[C:1][CH:1]1CN(c2cc[c:0](-[c:0]3c(C...     0.196478  0.410323   \n",
              "106  C#CN1CCCC(c2c(C(=O)Nc3ccc(-n4cncn4)cc3)no[c:0]...     0.239892  0.215820   \n",
              "685  CC(=O)N1Cc2cnc([NH:0][c:0]3ccc(N4C[CH:1]([C:1]...     0.338094  0.538008   \n",
              "851  CN(CC#N)C(=O)C1(c2ccc[c:1](-[c:1]3ccc4c(c3)OCC...     0.351700  0.339185   \n",
              "242  N#C[CH2:0][CH:0]1OC(=O)N2c3cc[c:1](-[c:1]4[nH]...     0.384988  0.903566   \n",
              "24   CO[C:1](C)(C#N)[CH:1]1CN(c2cc[c:0](-[c:0]3nn(C...     0.409072  0.208544   \n",
              "376  O=C1NC(Cc2cc[c:1](-[c:1]3csnn3)cc2)[CH:0]([C:0...     0.450696  0.803444   \n",
              "107  CC1=NC2CCNCC2=c2s[c:1](-[c:1]3ccc(N4C[CH:0]([C...     0.469097  0.729717   \n",
              "641  Cc1nc(-c2ccc[c:1](-[c:1]3ccc4c(c3)OCC3[CH:0]([...     0.491057  0.467531   \n",
              "907  C[C:1](C)(c1ccc([N+](=O)[O-])s1)[CH:1]1CN(c2cc...     0.516155  0.371518   \n",
              "\n",
              "      sascore   rascore  lipinski_ro5  lipinski_ro3  tox_groups  diversity  \n",
              "51   4.346180  0.360400          True         False           0   0.505495  \n",
              "106  4.672632  0.258138          True         False           2   0.514880  \n",
              "685  5.229198  0.523976         False         False           0   0.521188  \n",
              "851  4.267551  0.005969          True         False           1   0.538238  \n",
              "242  4.033282  0.043720          True         False           0   0.537226  \n",
              "24   4.462571  0.452150         False         False           0   0.527325  \n",
              "376  3.722664  0.211269          True         False           0   0.458646  \n",
              "107  4.682457  0.332106          True         False           0   0.518609  \n",
              "641  4.169350  0.056148          True         False           0   0.525995  \n",
              "907  4.952421  0.449845          True         False           0   0.492692  "
            ]
          },
          "execution_count": 126,
          "metadata": {},
          "output_type": "execute_result"
        }
      ],
      "source": [
        "df1 = pd.read_csv('nina_libinvent__result.csv')\n",
        "df1['bioactivity'] = df1.bioactivity.apply(lambda x: 10**x)\n",
        "df1 = df1.sort_values(by=['bioactivity'])\n",
        "df1 = df1.iloc[:10]\n",
        "df1"
      ]
    },
    {
      "cell_type": "code",
      "execution_count": 127,
      "metadata": {},
      "outputs": [
        {
          "data": {
            "text/plain": [
              "count    10.000000\n",
              "mean      0.384723\n",
              "std       0.105579\n",
              "min       0.196478\n",
              "25%       0.341496\n",
              "50%       0.397030\n",
              "75%       0.464497\n",
              "max       0.516155\n",
              "Name: bioactivity, dtype: float64"
            ]
          },
          "execution_count": 127,
          "metadata": {},
          "output_type": "execute_result"
        }
      ],
      "source": [
        "df1.bioactivity.describe()"
      ]
    },
    {
      "cell_type": "code",
      "execution_count": 128,
      "metadata": {},
      "outputs": [
        {
          "data": {
            "text/plain": [
              "count    10.000000\n",
              "mean      0.498766\n",
              "std       0.241825\n",
              "min       0.208544\n",
              "25%       0.347268\n",
              "50%       0.438927\n",
              "75%       0.681790\n",
              "max       0.903566\n",
              "Name: QED, dtype: float64"
            ]
          },
          "execution_count": 128,
          "metadata": {},
          "output_type": "execute_result"
        }
      ],
      "source": [
        "df1.QED.describe()"
      ]
    },
    {
      "cell_type": "code",
      "execution_count": 129,
      "metadata": {},
      "outputs": [
        {
          "data": {
            "text/plain": [
              "count    10.000000\n",
              "mean      4.453831\n",
              "std       0.445806\n",
              "min       3.722664\n",
              "25%       4.193900\n",
              "50%       4.404375\n",
              "75%       4.680001\n",
              "max       5.229198\n",
              "Name: sascore, dtype: float64"
            ]
          },
          "execution_count": 129,
          "metadata": {},
          "output_type": "execute_result"
        }
      ],
      "source": [
        "df1.sascore.describe()"
      ]
    },
    {
      "cell_type": "code",
      "execution_count": 130,
      "metadata": {},
      "outputs": [
        {
          "data": {
            "text/plain": [
              "count    10.000000\n",
              "mean      0.269372\n",
              "std       0.186276\n",
              "min       0.005969\n",
              "25%       0.094928\n",
              "50%       0.295122\n",
              "75%       0.427483\n",
              "max       0.523976\n",
              "Name: rascore, dtype: float64"
            ]
          },
          "execution_count": 130,
          "metadata": {},
          "output_type": "execute_result"
        }
      ],
      "source": [
        "df1.rascore.describe()"
      ]
    },
    {
      "cell_type": "code",
      "execution_count": 131,
      "metadata": {},
      "outputs": [
        {
          "data": {
            "text/plain": [
              "count    10.000000\n",
              "mean      0.514029\n",
              "std       0.023834\n",
              "min       0.458646\n",
              "25%       0.507841\n",
              "50%       0.519899\n",
              "75%       0.526992\n",
              "max       0.538238\n",
              "Name: diversity, dtype: float64"
            ]
          },
          "execution_count": 131,
          "metadata": {},
          "output_type": "execute_result"
        }
      ],
      "source": [
        "df1.diversity.describe()"
      ]
    },
    {
      "cell_type": "code",
      "execution_count": 132,
      "metadata": {},
      "outputs": [
        {
          "data": {
            "text/plain": [
              "lipinski_ro5\n",
              "True     8\n",
              "False    2\n",
              "Name: count, dtype: int64"
            ]
          },
          "execution_count": 132,
          "metadata": {},
          "output_type": "execute_result"
        }
      ],
      "source": [
        "df1.lipinski_ro5.value_counts()"
      ]
    },
    {
      "cell_type": "code",
      "execution_count": 133,
      "metadata": {},
      "outputs": [
        {
          "data": {
            "text/plain": [
              "lipinski_ro3\n",
              "False    10\n",
              "Name: count, dtype: int64"
            ]
          },
          "execution_count": 133,
          "metadata": {},
          "output_type": "execute_result"
        }
      ],
      "source": [
        "df1.lipinski_ro3.value_counts()"
      ]
    },
    {
      "cell_type": "code",
      "execution_count": 134,
      "metadata": {},
      "outputs": [
        {
          "data": {
            "text/plain": [
              "tox_groups\n",
              "0    8\n",
              "2    1\n",
              "1    1\n",
              "Name: count, dtype: int64"
            ]
          },
          "execution_count": 134,
          "metadata": {},
          "output_type": "execute_result"
        }
      ],
      "source": [
        "df1.tox_groups.value_counts()"
      ]
    },
    {
      "cell_type": "markdown",
      "metadata": {
        "id": "6UZYDqmZxONY"
      },
      "source": [
        "# RL(QED)"
      ]
    },
    {
      "cell_type": "code",
      "execution_count": 135,
      "metadata": {
        "colab": {
          "base_uri": "https://localhost:8080/",
          "height": 423
        },
        "id": "gkl8CBwPxJDv",
        "outputId": "d63abf7d-b555-454c-88c9-a819e94323fd"
      },
      "outputs": [
        {
          "data": {
            "text/html": [
              "<div>\n",
              "<style scoped>\n",
              "    .dataframe tbody tr th:only-of-type {\n",
              "        vertical-align: middle;\n",
              "    }\n",
              "\n",
              "    .dataframe tbody tr th {\n",
              "        vertical-align: top;\n",
              "    }\n",
              "\n",
              "    .dataframe thead th {\n",
              "        text-align: right;\n",
              "    }\n",
              "</style>\n",
              "<table border=\"1\" class=\"dataframe\">\n",
              "  <thead>\n",
              "    <tr style=\"text-align: right;\">\n",
              "      <th></th>\n",
              "      <th>smiles</th>\n",
              "      <th>bioactivity</th>\n",
              "      <th>QED</th>\n",
              "      <th>sascore</th>\n",
              "      <th>rascore</th>\n",
              "      <th>lipinski_ro5</th>\n",
              "      <th>lipinski_ro3</th>\n",
              "      <th>tox_groups</th>\n",
              "      <th>diversity</th>\n",
              "    </tr>\n",
              "  </thead>\n",
              "  <tbody>\n",
              "    <tr>\n",
              "      <th>789</th>\n",
              "      <td>Cc1nc2cc(F)c(N)nc2n1[CH2:0][c:0]1ccc(N2C[CH:1]...</td>\n",
              "      <td>0.503065</td>\n",
              "      <td>0.628572</td>\n",
              "      <td>3.538050</td>\n",
              "      <td>0.959376</td>\n",
              "      <td>True</td>\n",
              "      <td>False</td>\n",
              "      <td>0</td>\n",
              "      <td>0.463729</td>\n",
              "    </tr>\n",
              "    <tr>\n",
              "      <th>857</th>\n",
              "      <td>O=C1NC(Cc2cc[c:0]([CH2:0]n3ccc4cc(F)cnc43)cc2)...</td>\n",
              "      <td>0.610923</td>\n",
              "      <td>0.517970</td>\n",
              "      <td>3.530862</td>\n",
              "      <td>0.564043</td>\n",
              "      <td>True</td>\n",
              "      <td>False</td>\n",
              "      <td>0</td>\n",
              "      <td>0.382817</td>\n",
              "    </tr>\n",
              "    <tr>\n",
              "      <th>917</th>\n",
              "      <td>Cc1ccnn2nc[c:0](-[c:0]3ccc(N4C[CH:1]([CH:1]5CC...</td>\n",
              "      <td>0.640419</td>\n",
              "      <td>0.753493</td>\n",
              "      <td>3.918530</td>\n",
              "      <td>0.750260</td>\n",
              "      <td>True</td>\n",
              "      <td>False</td>\n",
              "      <td>0</td>\n",
              "      <td>0.477641</td>\n",
              "    </tr>\n",
              "    <tr>\n",
              "      <th>30</th>\n",
              "      <td>N#C[CH2:1][CH:1]1OC(=O)N2c3cc[c:0](-[c:0]4ccn[...</td>\n",
              "      <td>0.707438</td>\n",
              "      <td>0.915676</td>\n",
              "      <td>3.814738</td>\n",
              "      <td>0.175693</td>\n",
              "      <td>True</td>\n",
              "      <td>True</td>\n",
              "      <td>0</td>\n",
              "      <td>0.497364</td>\n",
              "    </tr>\n",
              "    <tr>\n",
              "      <th>900</th>\n",
              "      <td>Cc1cccn[c:0]1-[c:0]1ccc2c(c1)OCC1N2C(=O)O[CH:1...</td>\n",
              "      <td>0.715147</td>\n",
              "      <td>0.826498</td>\n",
              "      <td>3.681925</td>\n",
              "      <td>0.049314</td>\n",
              "      <td>True</td>\n",
              "      <td>False</td>\n",
              "      <td>0</td>\n",
              "      <td>0.508063</td>\n",
              "    </tr>\n",
              "    <tr>\n",
              "      <th>...</th>\n",
              "      <td>...</td>\n",
              "      <td>...</td>\n",
              "      <td>...</td>\n",
              "      <td>...</td>\n",
              "      <td>...</td>\n",
              "      <td>...</td>\n",
              "      <td>...</td>\n",
              "      <td>...</td>\n",
              "      <td>...</td>\n",
              "    </tr>\n",
              "    <tr>\n",
              "      <th>209</th>\n",
              "      <td>CNc1ccn[c:0](-[c:0]2ccc(N3C[CH:1]([c:1]4cncn4C...</td>\n",
              "      <td>29.941784</td>\n",
              "      <td>0.729815</td>\n",
              "      <td>3.644141</td>\n",
              "      <td>0.957218</td>\n",
              "      <td>True</td>\n",
              "      <td>False</td>\n",
              "      <td>0</td>\n",
              "      <td>0.442412</td>\n",
              "    </tr>\n",
              "    <tr>\n",
              "      <th>956</th>\n",
              "      <td>Cc1c[c:1]([CH:1]2CN(c3cc[c:0]([CH:0]4CC4)nc3)C...</td>\n",
              "      <td>30.197256</td>\n",
              "      <td>0.859256</td>\n",
              "      <td>3.401492</td>\n",
              "      <td>0.767325</td>\n",
              "      <td>True</td>\n",
              "      <td>False</td>\n",
              "      <td>0</td>\n",
              "      <td>0.436317</td>\n",
              "    </tr>\n",
              "    <tr>\n",
              "      <th>550</th>\n",
              "      <td>Cc1cc[c:0](-[c:0]2ccc(N3C[CH:1]([c:1]4scnc4C)O...</td>\n",
              "      <td>42.195231</td>\n",
              "      <td>0.714631</td>\n",
              "      <td>3.313439</td>\n",
              "      <td>0.633494</td>\n",
              "      <td>True</td>\n",
              "      <td>False</td>\n",
              "      <td>0</td>\n",
              "      <td>0.436816</td>\n",
              "    </tr>\n",
              "    <tr>\n",
              "      <th>952</th>\n",
              "      <td>Cc1c(N)[c:0](-[c:0]2ccc(N3C[CH:1]([NH2:1])OC3=...</td>\n",
              "      <td>62.392087</td>\n",
              "      <td>0.837067</td>\n",
              "      <td>3.577240</td>\n",
              "      <td>0.837851</td>\n",
              "      <td>True</td>\n",
              "      <td>True</td>\n",
              "      <td>0</td>\n",
              "      <td>0.426155</td>\n",
              "    </tr>\n",
              "    <tr>\n",
              "      <th>134</th>\n",
              "      <td>NC[CH2:0][CH:0]1CN(c2cc[c:1](-[c:1]3cncc(O)c3)...</td>\n",
              "      <td>63.665717</td>\n",
              "      <td>0.902483</td>\n",
              "      <td>2.855385</td>\n",
              "      <td>0.990317</td>\n",
              "      <td>True</td>\n",
              "      <td>True</td>\n",
              "      <td>0</td>\n",
              "      <td>0.429522</td>\n",
              "    </tr>\n",
              "  </tbody>\n",
              "</table>\n",
              "<p>1000 rows × 9 columns</p>\n",
              "</div>"
            ],
            "text/plain": [
              "                                                smiles  bioactivity       QED  \\\n",
              "789  Cc1nc2cc(F)c(N)nc2n1[CH2:0][c:0]1ccc(N2C[CH:1]...     0.503065  0.628572   \n",
              "857  O=C1NC(Cc2cc[c:0]([CH2:0]n3ccc4cc(F)cnc43)cc2)...     0.610923  0.517970   \n",
              "917  Cc1ccnn2nc[c:0](-[c:0]3ccc(N4C[CH:1]([CH:1]5CC...     0.640419  0.753493   \n",
              "30   N#C[CH2:1][CH:1]1OC(=O)N2c3cc[c:0](-[c:0]4ccn[...     0.707438  0.915676   \n",
              "900  Cc1cccn[c:0]1-[c:0]1ccc2c(c1)OCC1N2C(=O)O[CH:1...     0.715147  0.826498   \n",
              "..                                                 ...          ...       ...   \n",
              "209  CNc1ccn[c:0](-[c:0]2ccc(N3C[CH:1]([c:1]4cncn4C...    29.941784  0.729815   \n",
              "956  Cc1c[c:1]([CH:1]2CN(c3cc[c:0]([CH:0]4CC4)nc3)C...    30.197256  0.859256   \n",
              "550  Cc1cc[c:0](-[c:0]2ccc(N3C[CH:1]([c:1]4scnc4C)O...    42.195231  0.714631   \n",
              "952  Cc1c(N)[c:0](-[c:0]2ccc(N3C[CH:1]([NH2:1])OC3=...    62.392087  0.837067   \n",
              "134  NC[CH2:0][CH:0]1CN(c2cc[c:1](-[c:1]3cncc(O)c3)...    63.665717  0.902483   \n",
              "\n",
              "      sascore   rascore  lipinski_ro5  lipinski_ro3  tox_groups  diversity  \n",
              "789  3.538050  0.959376          True         False           0   0.463729  \n",
              "857  3.530862  0.564043          True         False           0   0.382817  \n",
              "917  3.918530  0.750260          True         False           0   0.477641  \n",
              "30   3.814738  0.175693          True          True           0   0.497364  \n",
              "900  3.681925  0.049314          True         False           0   0.508063  \n",
              "..        ...       ...           ...           ...         ...        ...  \n",
              "209  3.644141  0.957218          True         False           0   0.442412  \n",
              "956  3.401492  0.767325          True         False           0   0.436317  \n",
              "550  3.313439  0.633494          True         False           0   0.436816  \n",
              "952  3.577240  0.837851          True          True           0   0.426155  \n",
              "134  2.855385  0.990317          True          True           0   0.429522  \n",
              "\n",
              "[1000 rows x 9 columns]"
            ]
          },
          "execution_count": 135,
          "metadata": {},
          "output_type": "execute_result"
        }
      ],
      "source": [
        "df2 = pd.read_csv('nina_libinvent_after_rl_qed__result.csv')\n",
        "df2['bioactivity'] = df2.bioactivity.apply(lambda x: 10**x)\n",
        "df2 = df2.sort_values(by=['bioactivity'])\n",
        "df2"
      ]
    },
    {
      "cell_type": "code",
      "execution_count": 136,
      "metadata": {},
      "outputs": [
        {
          "data": {
            "text/plain": [
              "count    1000.000000\n",
              "mean        6.163746\n",
              "std         5.312891\n",
              "min         0.503065\n",
              "25%         2.996900\n",
              "50%         4.806728\n",
              "75%         7.810448\n",
              "max        63.665717\n",
              "Name: bioactivity, dtype: float64"
            ]
          },
          "execution_count": 136,
          "metadata": {},
          "output_type": "execute_result"
        }
      ],
      "source": [
        "df2.bioactivity.describe()"
      ]
    },
    {
      "cell_type": "code",
      "execution_count": 137,
      "metadata": {
        "colab": {
          "base_uri": "https://localhost:8080/",
          "height": 447
        },
        "id": "iLiXeT6nxXhx",
        "outputId": "3bb72c5c-af9e-4a9b-9615-5006248bca66"
      },
      "outputs": [
        {
          "data": {
            "text/plain": [
              "count    1000.000000\n",
              "mean        0.677220\n",
              "std         0.311687\n",
              "min        -0.298376\n",
              "25%         0.476672\n",
              "50%         0.681849\n",
              "75%         0.892676\n",
              "max         1.803906\n",
              "Name: bioactivity, dtype: float64"
            ]
          },
          "execution_count": 137,
          "metadata": {},
          "output_type": "execute_result"
        }
      ],
      "source": [
        "df2['bioactivity'] = df2.bioactivity.apply(lambda x: np.log10(x))\n",
        "df2.bioactivity.describe()"
      ]
    },
    {
      "cell_type": "code",
      "execution_count": 138,
      "metadata": {
        "colab": {
          "base_uri": "https://localhost:8080/"
        },
        "id": "XSXeqlp0xXh1",
        "outputId": "6534056a-0194-43b4-ab2e-fbed83f96394"
      },
      "outputs": [
        {
          "data": {
            "text/plain": [
              "lipinski_ro5\n",
              "True    1000\n",
              "Name: count, dtype: int64"
            ]
          },
          "execution_count": 138,
          "metadata": {},
          "output_type": "execute_result"
        }
      ],
      "source": [
        "df2.lipinski_ro5.value_counts()"
      ]
    },
    {
      "cell_type": "code",
      "execution_count": 139,
      "metadata": {
        "colab": {
          "base_uri": "https://localhost:8080/"
        },
        "id": "wCxLmfi_xXh1",
        "outputId": "f026ed14-178b-4199-e61e-03d573b60362"
      },
      "outputs": [
        {
          "data": {
            "text/plain": [
              "lipinski_ro3\n",
              "False    875\n",
              "True     125\n",
              "Name: count, dtype: int64"
            ]
          },
          "execution_count": 139,
          "metadata": {},
          "output_type": "execute_result"
        }
      ],
      "source": [
        "df2.lipinski_ro3.value_counts()"
      ]
    },
    {
      "cell_type": "code",
      "execution_count": 140,
      "metadata": {
        "colab": {
          "base_uri": "https://localhost:8080/"
        },
        "id": "zb6zP7iGxXh1",
        "outputId": "054a465c-2eee-4fed-99fa-ef559a78243e"
      },
      "outputs": [
        {
          "data": {
            "text/plain": [
              "tox_groups\n",
              "0    983\n",
              "1     17\n",
              "Name: count, dtype: int64"
            ]
          },
          "execution_count": 140,
          "metadata": {},
          "output_type": "execute_result"
        }
      ],
      "source": [
        "df2.tox_groups.value_counts()"
      ]
    },
    {
      "cell_type": "code",
      "execution_count": 141,
      "metadata": {
        "colab": {
          "base_uri": "https://localhost:8080/"
        },
        "id": "-BB89f-3xXh2",
        "outputId": "b349f1dc-e45e-4d7a-bbbb-ec3b700665b8"
      },
      "outputs": [
        {
          "data": {
            "text/plain": [
              "count    1000.000000\n",
              "mean        3.484430\n",
              "std         0.370372\n",
              "min         2.454412\n",
              "25%         3.248103\n",
              "50%         3.481972\n",
              "75%         3.725038\n",
              "max         5.805356\n",
              "Name: sascore, dtype: float64"
            ]
          },
          "execution_count": 141,
          "metadata": {},
          "output_type": "execute_result"
        }
      ],
      "source": [
        "df2.sascore.describe()"
      ]
    },
    {
      "cell_type": "code",
      "execution_count": 142,
      "metadata": {
        "colab": {
          "base_uri": "https://localhost:8080/"
        },
        "id": "uyOdslRB2k7u",
        "outputId": "674fac6a-f709-4fe4-b700-63b9dd5073ce"
      },
      "outputs": [
        {
          "data": {
            "text/plain": [
              "count    1000.000000\n",
              "mean        0.819319\n",
              "std         0.094814\n",
              "min         0.397626\n",
              "25%         0.768309\n",
              "50%         0.840702\n",
              "75%         0.890927\n",
              "max         0.946976\n",
              "Name: QED, dtype: float64"
            ]
          },
          "execution_count": 142,
          "metadata": {},
          "output_type": "execute_result"
        }
      ],
      "source": [
        "df2.QED.describe()"
      ]
    },
    {
      "cell_type": "code",
      "execution_count": 143,
      "metadata": {},
      "outputs": [
        {
          "data": {
            "text/plain": [
              "count    1000.000000\n",
              "mean        0.442343\n",
              "std         0.046292\n",
              "min         0.291108\n",
              "25%         0.409218\n",
              "50%         0.449167\n",
              "75%         0.478101\n",
              "max         0.526867\n",
              "Name: diversity, dtype: float64"
            ]
          },
          "execution_count": 143,
          "metadata": {},
          "output_type": "execute_result"
        }
      ],
      "source": [
        "df2.diversity.describe()"
      ]
    },
    {
      "cell_type": "markdown",
      "metadata": {},
      "source": [
        "#### top 100"
      ]
    },
    {
      "cell_type": "code",
      "execution_count": 144,
      "metadata": {},
      "outputs": [
        {
          "data": {
            "text/html": [
              "<div>\n",
              "<style scoped>\n",
              "    .dataframe tbody tr th:only-of-type {\n",
              "        vertical-align: middle;\n",
              "    }\n",
              "\n",
              "    .dataframe tbody tr th {\n",
              "        vertical-align: top;\n",
              "    }\n",
              "\n",
              "    .dataframe thead th {\n",
              "        text-align: right;\n",
              "    }\n",
              "</style>\n",
              "<table border=\"1\" class=\"dataframe\">\n",
              "  <thead>\n",
              "    <tr style=\"text-align: right;\">\n",
              "      <th></th>\n",
              "      <th>smiles</th>\n",
              "      <th>bioactivity</th>\n",
              "      <th>QED</th>\n",
              "      <th>sascore</th>\n",
              "      <th>rascore</th>\n",
              "      <th>lipinski_ro5</th>\n",
              "      <th>lipinski_ro3</th>\n",
              "      <th>tox_groups</th>\n",
              "      <th>diversity</th>\n",
              "    </tr>\n",
              "  </thead>\n",
              "  <tbody>\n",
              "    <tr>\n",
              "      <th>789</th>\n",
              "      <td>Cc1nc2cc(F)c(N)nc2n1[CH2:0][c:0]1ccc(N2C[CH:1]...</td>\n",
              "      <td>0.503065</td>\n",
              "      <td>0.628572</td>\n",
              "      <td>3.538050</td>\n",
              "      <td>0.959376</td>\n",
              "      <td>True</td>\n",
              "      <td>False</td>\n",
              "      <td>0</td>\n",
              "      <td>0.463729</td>\n",
              "    </tr>\n",
              "    <tr>\n",
              "      <th>857</th>\n",
              "      <td>O=C1NC(Cc2cc[c:0]([CH2:0]n3ccc4cc(F)cnc43)cc2)...</td>\n",
              "      <td>0.610923</td>\n",
              "      <td>0.517970</td>\n",
              "      <td>3.530862</td>\n",
              "      <td>0.564043</td>\n",
              "      <td>True</td>\n",
              "      <td>False</td>\n",
              "      <td>0</td>\n",
              "      <td>0.382817</td>\n",
              "    </tr>\n",
              "    <tr>\n",
              "      <th>917</th>\n",
              "      <td>Cc1ccnn2nc[c:0](-[c:0]3ccc(N4C[CH:1]([CH:1]5CC...</td>\n",
              "      <td>0.640419</td>\n",
              "      <td>0.753493</td>\n",
              "      <td>3.918530</td>\n",
              "      <td>0.750260</td>\n",
              "      <td>True</td>\n",
              "      <td>False</td>\n",
              "      <td>0</td>\n",
              "      <td>0.477641</td>\n",
              "    </tr>\n",
              "    <tr>\n",
              "      <th>30</th>\n",
              "      <td>N#C[CH2:1][CH:1]1OC(=O)N2c3cc[c:0](-[c:0]4ccn[...</td>\n",
              "      <td>0.707438</td>\n",
              "      <td>0.915676</td>\n",
              "      <td>3.814738</td>\n",
              "      <td>0.175693</td>\n",
              "      <td>True</td>\n",
              "      <td>True</td>\n",
              "      <td>0</td>\n",
              "      <td>0.497364</td>\n",
              "    </tr>\n",
              "    <tr>\n",
              "      <th>900</th>\n",
              "      <td>Cc1cccn[c:0]1-[c:0]1ccc2c(c1)OCC1N2C(=O)O[CH:1...</td>\n",
              "      <td>0.715147</td>\n",
              "      <td>0.826498</td>\n",
              "      <td>3.681925</td>\n",
              "      <td>0.049314</td>\n",
              "      <td>True</td>\n",
              "      <td>False</td>\n",
              "      <td>0</td>\n",
              "      <td>0.508063</td>\n",
              "    </tr>\n",
              "    <tr>\n",
              "      <th>...</th>\n",
              "      <td>...</td>\n",
              "      <td>...</td>\n",
              "      <td>...</td>\n",
              "      <td>...</td>\n",
              "      <td>...</td>\n",
              "      <td>...</td>\n",
              "      <td>...</td>\n",
              "      <td>...</td>\n",
              "      <td>...</td>\n",
              "    </tr>\n",
              "    <tr>\n",
              "      <th>677</th>\n",
              "      <td>CC[CH2:1][c:1]1ccc(N2C[CH:0]([CH:0]3CCCCCNC3)O...</td>\n",
              "      <td>1.884601</td>\n",
              "      <td>0.919717</td>\n",
              "      <td>3.141877</td>\n",
              "      <td>0.838720</td>\n",
              "      <td>True</td>\n",
              "      <td>False</td>\n",
              "      <td>0</td>\n",
              "      <td>0.475009</td>\n",
              "    </tr>\n",
              "    <tr>\n",
              "      <th>43</th>\n",
              "      <td>O=C1NC(Cc2cc[c:0](-[c:0]3cnsc3)cc2)[CH:1]([CH:...</td>\n",
              "      <td>1.891217</td>\n",
              "      <td>0.942781</td>\n",
              "      <td>3.725388</td>\n",
              "      <td>0.173775</td>\n",
              "      <td>True</td>\n",
              "      <td>False</td>\n",
              "      <td>0</td>\n",
              "      <td>0.390960</td>\n",
              "    </tr>\n",
              "    <tr>\n",
              "      <th>693</th>\n",
              "      <td>O=C1O[CH:0]([CH2:0]C2CCNCC2)CN1c1cc[c:1]([N:1]...</td>\n",
              "      <td>1.893187</td>\n",
              "      <td>0.927518</td>\n",
              "      <td>2.879662</td>\n",
              "      <td>0.988392</td>\n",
              "      <td>True</td>\n",
              "      <td>False</td>\n",
              "      <td>0</td>\n",
              "      <td>0.431668</td>\n",
              "    </tr>\n",
              "    <tr>\n",
              "      <th>365</th>\n",
              "      <td>Cc1n[c:0](-[c:0]2ccc3c(c2)OCC2N3C(=O)O[CH:1]2[...</td>\n",
              "      <td>1.897763</td>\n",
              "      <td>0.907961</td>\n",
              "      <td>3.681985</td>\n",
              "      <td>0.244080</td>\n",
              "      <td>True</td>\n",
              "      <td>False</td>\n",
              "      <td>0</td>\n",
              "      <td>0.513635</td>\n",
              "    </tr>\n",
              "    <tr>\n",
              "      <th>345</th>\n",
              "      <td>CN1CC[N:0]([c:0]2ccc3c(c2)OCC2N3C(=O)O[CH:1]2[...</td>\n",
              "      <td>1.912500</td>\n",
              "      <td>0.849678</td>\n",
              "      <td>3.587390</td>\n",
              "      <td>0.667988</td>\n",
              "      <td>True</td>\n",
              "      <td>False</td>\n",
              "      <td>0</td>\n",
              "      <td>0.513555</td>\n",
              "    </tr>\n",
              "  </tbody>\n",
              "</table>\n",
              "<p>100 rows × 9 columns</p>\n",
              "</div>"
            ],
            "text/plain": [
              "                                                smiles  bioactivity       QED  \\\n",
              "789  Cc1nc2cc(F)c(N)nc2n1[CH2:0][c:0]1ccc(N2C[CH:1]...     0.503065  0.628572   \n",
              "857  O=C1NC(Cc2cc[c:0]([CH2:0]n3ccc4cc(F)cnc43)cc2)...     0.610923  0.517970   \n",
              "917  Cc1ccnn2nc[c:0](-[c:0]3ccc(N4C[CH:1]([CH:1]5CC...     0.640419  0.753493   \n",
              "30   N#C[CH2:1][CH:1]1OC(=O)N2c3cc[c:0](-[c:0]4ccn[...     0.707438  0.915676   \n",
              "900  Cc1cccn[c:0]1-[c:0]1ccc2c(c1)OCC1N2C(=O)O[CH:1...     0.715147  0.826498   \n",
              "..                                                 ...          ...       ...   \n",
              "677  CC[CH2:1][c:1]1ccc(N2C[CH:0]([CH:0]3CCCCCNC3)O...     1.884601  0.919717   \n",
              "43   O=C1NC(Cc2cc[c:0](-[c:0]3cnsc3)cc2)[CH:1]([CH:...     1.891217  0.942781   \n",
              "693  O=C1O[CH:0]([CH2:0]C2CCNCC2)CN1c1cc[c:1]([N:1]...     1.893187  0.927518   \n",
              "365  Cc1n[c:0](-[c:0]2ccc3c(c2)OCC2N3C(=O)O[CH:1]2[...     1.897763  0.907961   \n",
              "345  CN1CC[N:0]([c:0]2ccc3c(c2)OCC2N3C(=O)O[CH:1]2[...     1.912500  0.849678   \n",
              "\n",
              "      sascore   rascore  lipinski_ro5  lipinski_ro3  tox_groups  diversity  \n",
              "789  3.538050  0.959376          True         False           0   0.463729  \n",
              "857  3.530862  0.564043          True         False           0   0.382817  \n",
              "917  3.918530  0.750260          True         False           0   0.477641  \n",
              "30   3.814738  0.175693          True          True           0   0.497364  \n",
              "900  3.681925  0.049314          True         False           0   0.508063  \n",
              "..        ...       ...           ...           ...         ...        ...  \n",
              "677  3.141877  0.838720          True         False           0   0.475009  \n",
              "43   3.725388  0.173775          True         False           0   0.390960  \n",
              "693  2.879662  0.988392          True         False           0   0.431668  \n",
              "365  3.681985  0.244080          True         False           0   0.513635  \n",
              "345  3.587390  0.667988          True         False           0   0.513555  \n",
              "\n",
              "[100 rows x 9 columns]"
            ]
          },
          "execution_count": 144,
          "metadata": {},
          "output_type": "execute_result"
        }
      ],
      "source": [
        "df2 = pd.read_csv('nina_libinvent_after_rl_qed__result.csv')\n",
        "df2['bioactivity'] = df2.bioactivity.apply(lambda x: 10**x)\n",
        "df2 = df2.sort_values(by=['bioactivity'])\n",
        "df2 = df2.iloc[:100]\n",
        "df2"
      ]
    },
    {
      "cell_type": "code",
      "execution_count": 145,
      "metadata": {},
      "outputs": [
        {
          "data": {
            "text/plain": [
              "count    100.000000\n",
              "mean       1.384848\n",
              "std        0.376186\n",
              "min        0.503065\n",
              "25%        1.119929\n",
              "50%        1.387855\n",
              "75%        1.719243\n",
              "max        1.912500\n",
              "Name: bioactivity, dtype: float64"
            ]
          },
          "execution_count": 145,
          "metadata": {},
          "output_type": "execute_result"
        }
      ],
      "source": [
        "df2.bioactivity.describe()"
      ]
    },
    {
      "cell_type": "code",
      "execution_count": 146,
      "metadata": {},
      "outputs": [
        {
          "data": {
            "text/plain": [
              "count    100.000000\n",
              "mean       0.122537\n",
              "std        0.135138\n",
              "min       -0.298376\n",
              "25%        0.049187\n",
              "50%        0.142341\n",
              "75%        0.235336\n",
              "max        0.281601\n",
              "Name: bioactivity, dtype: float64"
            ]
          },
          "execution_count": 146,
          "metadata": {},
          "output_type": "execute_result"
        }
      ],
      "source": [
        "df2['bioactivity'] = df2.bioactivity.apply(lambda x: np.log10(x))\n",
        "df2.bioactivity.describe()"
      ]
    },
    {
      "cell_type": "code",
      "execution_count": 147,
      "metadata": {},
      "outputs": [
        {
          "data": {
            "text/plain": [
              "lipinski_ro5\n",
              "True    100\n",
              "Name: count, dtype: int64"
            ]
          },
          "execution_count": 147,
          "metadata": {},
          "output_type": "execute_result"
        }
      ],
      "source": [
        "df2.lipinski_ro5.value_counts()"
      ]
    },
    {
      "cell_type": "code",
      "execution_count": 148,
      "metadata": {},
      "outputs": [
        {
          "data": {
            "text/plain": [
              "lipinski_ro3\n",
              "False    97\n",
              "True      3\n",
              "Name: count, dtype: int64"
            ]
          },
          "execution_count": 148,
          "metadata": {},
          "output_type": "execute_result"
        }
      ],
      "source": [
        "df2.lipinski_ro3.value_counts()"
      ]
    },
    {
      "cell_type": "code",
      "execution_count": 149,
      "metadata": {},
      "outputs": [
        {
          "data": {
            "text/plain": [
              "tox_groups\n",
              "0    97\n",
              "1     3\n",
              "Name: count, dtype: int64"
            ]
          },
          "execution_count": 149,
          "metadata": {},
          "output_type": "execute_result"
        }
      ],
      "source": [
        "df2.tox_groups.value_counts()"
      ]
    },
    {
      "cell_type": "code",
      "execution_count": 150,
      "metadata": {},
      "outputs": [
        {
          "data": {
            "text/plain": [
              "count    100.000000\n",
              "mean       3.623917\n",
              "std        0.316523\n",
              "min        2.783596\n",
              "25%        3.462371\n",
              "50%        3.648226\n",
              "75%        3.799807\n",
              "max        4.942559\n",
              "Name: sascore, dtype: float64"
            ]
          },
          "execution_count": 150,
          "metadata": {},
          "output_type": "execute_result"
        }
      ],
      "source": [
        "df2.sascore.describe()"
      ]
    },
    {
      "cell_type": "code",
      "execution_count": 151,
      "metadata": {},
      "outputs": [
        {
          "data": {
            "text/plain": [
              "count    100.000000\n",
              "mean       0.793644\n",
              "std        0.108044\n",
              "min        0.397626\n",
              "25%        0.734229\n",
              "50%        0.819332\n",
              "75%        0.873678\n",
              "max        0.942781\n",
              "Name: QED, dtype: float64"
            ]
          },
          "execution_count": 151,
          "metadata": {},
          "output_type": "execute_result"
        }
      ],
      "source": [
        "df2.QED.describe()"
      ]
    },
    {
      "cell_type": "code",
      "execution_count": 152,
      "metadata": {},
      "outputs": [
        {
          "data": {
            "text/plain": [
              "count    100.000000\n",
              "mean       0.455016\n",
              "std        0.045877\n",
              "min        0.358011\n",
              "25%        0.429118\n",
              "50%        0.472571\n",
              "75%        0.483774\n",
              "max        0.514868\n",
              "Name: diversity, dtype: float64"
            ]
          },
          "execution_count": 152,
          "metadata": {},
          "output_type": "execute_result"
        }
      ],
      "source": [
        "df2.diversity.describe()"
      ]
    },
    {
      "cell_type": "markdown",
      "metadata": {},
      "source": [
        "#### top 10"
      ]
    },
    {
      "cell_type": "code",
      "execution_count": 153,
      "metadata": {},
      "outputs": [
        {
          "data": {
            "text/html": [
              "<div>\n",
              "<style scoped>\n",
              "    .dataframe tbody tr th:only-of-type {\n",
              "        vertical-align: middle;\n",
              "    }\n",
              "\n",
              "    .dataframe tbody tr th {\n",
              "        vertical-align: top;\n",
              "    }\n",
              "\n",
              "    .dataframe thead th {\n",
              "        text-align: right;\n",
              "    }\n",
              "</style>\n",
              "<table border=\"1\" class=\"dataframe\">\n",
              "  <thead>\n",
              "    <tr style=\"text-align: right;\">\n",
              "      <th></th>\n",
              "      <th>smiles</th>\n",
              "      <th>bioactivity</th>\n",
              "      <th>QED</th>\n",
              "      <th>sascore</th>\n",
              "      <th>rascore</th>\n",
              "      <th>lipinski_ro5</th>\n",
              "      <th>lipinski_ro3</th>\n",
              "      <th>tox_groups</th>\n",
              "      <th>diversity</th>\n",
              "    </tr>\n",
              "  </thead>\n",
              "  <tbody>\n",
              "    <tr>\n",
              "      <th>789</th>\n",
              "      <td>Cc1nc2cc(F)c(N)nc2n1[CH2:0][c:0]1ccc(N2C[CH:1]...</td>\n",
              "      <td>0.503065</td>\n",
              "      <td>0.628572</td>\n",
              "      <td>3.538050</td>\n",
              "      <td>0.959376</td>\n",
              "      <td>True</td>\n",
              "      <td>False</td>\n",
              "      <td>0</td>\n",
              "      <td>0.463729</td>\n",
              "    </tr>\n",
              "    <tr>\n",
              "      <th>857</th>\n",
              "      <td>O=C1NC(Cc2cc[c:0]([CH2:0]n3ccc4cc(F)cnc43)cc2)...</td>\n",
              "      <td>0.610923</td>\n",
              "      <td>0.517970</td>\n",
              "      <td>3.530862</td>\n",
              "      <td>0.564043</td>\n",
              "      <td>True</td>\n",
              "      <td>False</td>\n",
              "      <td>0</td>\n",
              "      <td>0.382817</td>\n",
              "    </tr>\n",
              "    <tr>\n",
              "      <th>917</th>\n",
              "      <td>Cc1ccnn2nc[c:0](-[c:0]3ccc(N4C[CH:1]([CH:1]5CC...</td>\n",
              "      <td>0.640419</td>\n",
              "      <td>0.753493</td>\n",
              "      <td>3.918530</td>\n",
              "      <td>0.750260</td>\n",
              "      <td>True</td>\n",
              "      <td>False</td>\n",
              "      <td>0</td>\n",
              "      <td>0.477641</td>\n",
              "    </tr>\n",
              "    <tr>\n",
              "      <th>30</th>\n",
              "      <td>N#C[CH2:1][CH:1]1OC(=O)N2c3cc[c:0](-[c:0]4ccn[...</td>\n",
              "      <td>0.707438</td>\n",
              "      <td>0.915676</td>\n",
              "      <td>3.814738</td>\n",
              "      <td>0.175693</td>\n",
              "      <td>True</td>\n",
              "      <td>True</td>\n",
              "      <td>0</td>\n",
              "      <td>0.497364</td>\n",
              "    </tr>\n",
              "    <tr>\n",
              "      <th>900</th>\n",
              "      <td>Cc1cccn[c:0]1-[c:0]1ccc2c(c1)OCC1N2C(=O)O[CH:1...</td>\n",
              "      <td>0.715147</td>\n",
              "      <td>0.826498</td>\n",
              "      <td>3.681925</td>\n",
              "      <td>0.049314</td>\n",
              "      <td>True</td>\n",
              "      <td>False</td>\n",
              "      <td>0</td>\n",
              "      <td>0.508063</td>\n",
              "    </tr>\n",
              "    <tr>\n",
              "      <th>368</th>\n",
              "      <td>Cc1n[c:1]([CH:1]2CN(c3cc[c:0]([CH2:0]C4CCNCC4)...</td>\n",
              "      <td>0.719153</td>\n",
              "      <td>0.907159</td>\n",
              "      <td>3.577621</td>\n",
              "      <td>0.696518</td>\n",
              "      <td>True</td>\n",
              "      <td>False</td>\n",
              "      <td>0</td>\n",
              "      <td>0.445185</td>\n",
              "    </tr>\n",
              "    <tr>\n",
              "      <th>808</th>\n",
              "      <td>Cc1ccc(C)n2nc[c:0](-[c:0]3ccc(N4C[CH:1]([CH:1]...</td>\n",
              "      <td>0.726118</td>\n",
              "      <td>0.673058</td>\n",
              "      <td>3.907606</td>\n",
              "      <td>0.882533</td>\n",
              "      <td>True</td>\n",
              "      <td>False</td>\n",
              "      <td>0</td>\n",
              "      <td>0.473662</td>\n",
              "    </tr>\n",
              "    <tr>\n",
              "      <th>181</th>\n",
              "      <td>O=C1NC(Cc2cc[c:0]([CH:0]3CC3)cc2)[CH:1]([c:1]2...</td>\n",
              "      <td>0.736876</td>\n",
              "      <td>0.817988</td>\n",
              "      <td>4.177821</td>\n",
              "      <td>0.090551</td>\n",
              "      <td>True</td>\n",
              "      <td>False</td>\n",
              "      <td>0</td>\n",
              "      <td>0.396733</td>\n",
              "    </tr>\n",
              "    <tr>\n",
              "      <th>374</th>\n",
              "      <td>Cc1cc[c:0](-[c:0]2ccc(CC3NC(=O)O[CH:1]3[N:1]3C...</td>\n",
              "      <td>0.746136</td>\n",
              "      <td>0.921567</td>\n",
              "      <td>3.336380</td>\n",
              "      <td>0.531513</td>\n",
              "      <td>True</td>\n",
              "      <td>False</td>\n",
              "      <td>0</td>\n",
              "      <td>0.381448</td>\n",
              "    </tr>\n",
              "    <tr>\n",
              "      <th>577</th>\n",
              "      <td>O=C1O[CH:1]([NH2:1])C2COc3c[c:0](-[c:0]4cncn4C...</td>\n",
              "      <td>0.766582</td>\n",
              "      <td>0.908389</td>\n",
              "      <td>4.061817</td>\n",
              "      <td>0.514746</td>\n",
              "      <td>True</td>\n",
              "      <td>False</td>\n",
              "      <td>0</td>\n",
              "      <td>0.466795</td>\n",
              "    </tr>\n",
              "  </tbody>\n",
              "</table>\n",
              "</div>"
            ],
            "text/plain": [
              "                                                smiles  bioactivity       QED  \\\n",
              "789  Cc1nc2cc(F)c(N)nc2n1[CH2:0][c:0]1ccc(N2C[CH:1]...     0.503065  0.628572   \n",
              "857  O=C1NC(Cc2cc[c:0]([CH2:0]n3ccc4cc(F)cnc43)cc2)...     0.610923  0.517970   \n",
              "917  Cc1ccnn2nc[c:0](-[c:0]3ccc(N4C[CH:1]([CH:1]5CC...     0.640419  0.753493   \n",
              "30   N#C[CH2:1][CH:1]1OC(=O)N2c3cc[c:0](-[c:0]4ccn[...     0.707438  0.915676   \n",
              "900  Cc1cccn[c:0]1-[c:0]1ccc2c(c1)OCC1N2C(=O)O[CH:1...     0.715147  0.826498   \n",
              "368  Cc1n[c:1]([CH:1]2CN(c3cc[c:0]([CH2:0]C4CCNCC4)...     0.719153  0.907159   \n",
              "808  Cc1ccc(C)n2nc[c:0](-[c:0]3ccc(N4C[CH:1]([CH:1]...     0.726118  0.673058   \n",
              "181  O=C1NC(Cc2cc[c:0]([CH:0]3CC3)cc2)[CH:1]([c:1]2...     0.736876  0.817988   \n",
              "374  Cc1cc[c:0](-[c:0]2ccc(CC3NC(=O)O[CH:1]3[N:1]3C...     0.746136  0.921567   \n",
              "577  O=C1O[CH:1]([NH2:1])C2COc3c[c:0](-[c:0]4cncn4C...     0.766582  0.908389   \n",
              "\n",
              "      sascore   rascore  lipinski_ro5  lipinski_ro3  tox_groups  diversity  \n",
              "789  3.538050  0.959376          True         False           0   0.463729  \n",
              "857  3.530862  0.564043          True         False           0   0.382817  \n",
              "917  3.918530  0.750260          True         False           0   0.477641  \n",
              "30   3.814738  0.175693          True          True           0   0.497364  \n",
              "900  3.681925  0.049314          True         False           0   0.508063  \n",
              "368  3.577621  0.696518          True         False           0   0.445185  \n",
              "808  3.907606  0.882533          True         False           0   0.473662  \n",
              "181  4.177821  0.090551          True         False           0   0.396733  \n",
              "374  3.336380  0.531513          True         False           0   0.381448  \n",
              "577  4.061817  0.514746          True         False           0   0.466795  "
            ]
          },
          "execution_count": 153,
          "metadata": {},
          "output_type": "execute_result"
        }
      ],
      "source": [
        "df2 = pd.read_csv('nina_libinvent_after_rl_qed__result.csv')\n",
        "df2['bioactivity'] = df2.bioactivity.apply(lambda x: 10**x)\n",
        "df2 = df2.sort_values(by=['bioactivity'])\n",
        "df2 = df2.iloc[:10]\n",
        "df2"
      ]
    },
    {
      "cell_type": "code",
      "execution_count": 154,
      "metadata": {},
      "outputs": [
        {
          "data": {
            "text/plain": [
              "count    10.000000\n",
              "mean      0.687186\n",
              "std       0.080195\n",
              "min       0.503065\n",
              "25%       0.657174\n",
              "50%       0.717150\n",
              "75%       0.734187\n",
              "max       0.766582\n",
              "Name: bioactivity, dtype: float64"
            ]
          },
          "execution_count": 154,
          "metadata": {},
          "output_type": "execute_result"
        }
      ],
      "source": [
        "df2.bioactivity.describe()"
      ]
    },
    {
      "cell_type": "code",
      "execution_count": 155,
      "metadata": {},
      "outputs": [
        {
          "data": {
            "text/plain": [
              "count    10.000000\n",
              "mean     -0.165924\n",
              "std       0.055455\n",
              "min      -0.298376\n",
              "25%      -0.182730\n",
              "50%      -0.144392\n",
              "75%      -0.134202\n",
              "max      -0.115441\n",
              "Name: bioactivity, dtype: float64"
            ]
          },
          "execution_count": 155,
          "metadata": {},
          "output_type": "execute_result"
        }
      ],
      "source": [
        "df2['bioactivity'] = df2.bioactivity.apply(lambda x: np.log10(x))\n",
        "df2.bioactivity.describe()"
      ]
    },
    {
      "cell_type": "code",
      "execution_count": 156,
      "metadata": {},
      "outputs": [
        {
          "data": {
            "text/plain": [
              "lipinski_ro5\n",
              "True    10\n",
              "Name: count, dtype: int64"
            ]
          },
          "execution_count": 156,
          "metadata": {},
          "output_type": "execute_result"
        }
      ],
      "source": [
        "df2.lipinski_ro5.value_counts()"
      ]
    },
    {
      "cell_type": "code",
      "execution_count": 157,
      "metadata": {},
      "outputs": [
        {
          "data": {
            "text/plain": [
              "lipinski_ro3\n",
              "False    9\n",
              "True     1\n",
              "Name: count, dtype: int64"
            ]
          },
          "execution_count": 157,
          "metadata": {},
          "output_type": "execute_result"
        }
      ],
      "source": [
        "df2.lipinski_ro3.value_counts()"
      ]
    },
    {
      "cell_type": "code",
      "execution_count": 158,
      "metadata": {},
      "outputs": [
        {
          "data": {
            "text/plain": [
              "tox_groups\n",
              "0    10\n",
              "Name: count, dtype: int64"
            ]
          },
          "execution_count": 158,
          "metadata": {},
          "output_type": "execute_result"
        }
      ],
      "source": [
        "df2.tox_groups.value_counts()"
      ]
    },
    {
      "cell_type": "code",
      "execution_count": 159,
      "metadata": {},
      "outputs": [
        {
          "data": {
            "text/plain": [
              "count    10.000000\n",
              "mean      3.754535\n",
              "std       0.265803\n",
              "min       3.336380\n",
              "25%       3.547943\n",
              "50%       3.748332\n",
              "75%       3.915799\n",
              "max       4.177821\n",
              "Name: sascore, dtype: float64"
            ]
          },
          "execution_count": 159,
          "metadata": {},
          "output_type": "execute_result"
        }
      ],
      "source": [
        "df2.sascore.describe()"
      ]
    },
    {
      "cell_type": "code",
      "execution_count": 160,
      "metadata": {},
      "outputs": [
        {
          "data": {
            "text/plain": [
              "count    10.000000\n",
              "mean      0.787037\n",
              "std       0.140611\n",
              "min       0.517970\n",
              "25%       0.693167\n",
              "50%       0.822243\n",
              "75%       0.908082\n",
              "max       0.921567\n",
              "Name: QED, dtype: float64"
            ]
          },
          "execution_count": 160,
          "metadata": {},
          "output_type": "execute_result"
        }
      ],
      "source": [
        "df2.QED.describe()"
      ]
    },
    {
      "cell_type": "code",
      "execution_count": 161,
      "metadata": {},
      "outputs": [
        {
          "data": {
            "text/plain": [
              "count    10.000000\n",
              "mean      0.449344\n",
              "std       0.046521\n",
              "min       0.381448\n",
              "25%       0.408846\n",
              "50%       0.465262\n",
              "75%       0.476646\n",
              "max       0.508063\n",
              "Name: diversity, dtype: float64"
            ]
          },
          "execution_count": 161,
          "metadata": {},
          "output_type": "execute_result"
        }
      ],
      "source": [
        "df2.diversity.describe()"
      ]
    }
  ],
  "metadata": {
    "colab": {
      "provenance": [],
      "toc_visible": true
    },
    "kernelspec": {
      "display_name": "Python 3",
      "name": "python3"
    },
    "language_info": {
      "codemirror_mode": {
        "name": "ipython",
        "version": 3
      },
      "file_extension": ".py",
      "mimetype": "text/x-python",
      "name": "python",
      "nbconvert_exporter": "python",
      "pygments_lexer": "ipython3",
      "version": "3.11.5"
    }
  },
  "nbformat": 4,
  "nbformat_minor": 0
}
