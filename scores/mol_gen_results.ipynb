{
  "nbformat": 4,
  "nbformat_minor": 0,
  "metadata": {
    "colab": {
      "provenance": [],
      "toc_visible": true
    },
    "kernelspec": {
      "name": "python3",
      "display_name": "Python 3"
    },
    "language_info": {
      "name": "python"
    }
  },
  "cells": [
    {
      "cell_type": "code",
      "execution_count": null,
      "metadata": {
        "id": "OySNZiXswCZ7"
      },
      "outputs": [],
      "source": [
        "import pandas as pd\n",
        "import numpy as np"
      ]
    },
    {
      "cell_type": "markdown",
      "source": [
        "# Mol_DQN"
      ],
      "metadata": {
        "id": "M_9XRQ4gwTk8"
      }
    },
    {
      "cell_type": "code",
      "source": [
        "df1 = pd.read_csv('mol_dqn_result.csv')\n",
        "df1"
      ],
      "metadata": {
        "colab": {
          "base_uri": "https://localhost:8080/",
          "height": 423
        },
        "id": "NyaAQ1iNwQ4B",
        "outputId": "946384a0-b14e-4e76-d271-9d22b349e8ba"
      },
      "execution_count": null,
      "outputs": [
        {
          "output_type": "execute_result",
          "data": {
            "text/plain": [
              "                                                smiles       MIC   sascore  \\\n",
              "0    C=C1CC12OC1(CN3c4ccc(N5CO[C@@H](C6NC(=O)C6=N)C...  0.454016  7.030630   \n",
              "1       CC1=CN(c2ccc(N3CCOC(O)C3)cc2N2OC2CO)C(O)O[CH]1  9.337039  4.999800   \n",
              "2      C=C1CN1c1c2cc3c4c1cc(n4C1C=C4[C@H]1OC(=O)N43)C2  2.714174  6.559035   \n",
              "3    C=C1CC(C)CN1c1c2cc(c(C)c1F)N1C3OO[C@@H](C4(C)C...  0.995661  7.141887   \n",
              "4    CNC1C(=O)c2cc(N3Cc4ccc(o4)C3)cc1c2N1C(=O)O[C@H...  1.142700  6.061354   \n",
              "..                                                 ...       ...       ...   \n",
              "245                 CCN1Cc2cc(N3CC3[C@@H]3C=CCO3)ccc21  2.866601  4.092351   \n",
              "246  C=C1COC(C)C(=C)N1c1ccc(N2CO[C@@H](C3NCC3=O)C2)cc1  7.037496  4.615537   \n",
              "247  C=C1C=CNC2(NC(=O)[CH]OC(=O)N(c3cc4c5cc3NN5C(C)...  1.115949  7.016311   \n",
              "248      Cc1cc(N2C3=CCC(C)OC32)ccc1N1CO[C@H]2CC=CCNC21  5.677250  4.981591   \n",
              "249         CCNC1[C@@H]2CC3C4=CC(N(C)C)=C(F)C3=C4N1CO2  3.427982  6.523212   \n",
              "\n",
              "      rascore  lipinski_ro5  lipinski_ro3       QED  tox_groups  \n",
              "0    0.006186          True         False  0.499725           0  \n",
              "1    0.301536          True         False  0.641730           1  \n",
              "2    0.031020          True          True  0.646337           2  \n",
              "3    0.000928          True         False  0.580810           1  \n",
              "4    0.395702          True         False  0.816141           0  \n",
              "..        ...           ...           ...       ...         ...  \n",
              "245  0.959082          True          True  0.596479           1  \n",
              "246  0.385656          True         False  0.902122           0  \n",
              "247  0.017129          True         False  0.604859           0  \n",
              "248  0.046225          True         False  0.662305           1  \n",
              "249  0.468905          True          True  0.846903           1  \n",
              "\n",
              "[250 rows x 8 columns]"
            ],
            "text/html": [
              "\n",
              "  <div id=\"df-cb88799f-466b-4425-a7ad-402236f72a0d\" class=\"colab-df-container\">\n",
              "    <div>\n",
              "<style scoped>\n",
              "    .dataframe tbody tr th:only-of-type {\n",
              "        vertical-align: middle;\n",
              "    }\n",
              "\n",
              "    .dataframe tbody tr th {\n",
              "        vertical-align: top;\n",
              "    }\n",
              "\n",
              "    .dataframe thead th {\n",
              "        text-align: right;\n",
              "    }\n",
              "</style>\n",
              "<table border=\"1\" class=\"dataframe\">\n",
              "  <thead>\n",
              "    <tr style=\"text-align: right;\">\n",
              "      <th></th>\n",
              "      <th>smiles</th>\n",
              "      <th>MIC</th>\n",
              "      <th>sascore</th>\n",
              "      <th>rascore</th>\n",
              "      <th>lipinski_ro5</th>\n",
              "      <th>lipinski_ro3</th>\n",
              "      <th>QED</th>\n",
              "      <th>tox_groups</th>\n",
              "    </tr>\n",
              "  </thead>\n",
              "  <tbody>\n",
              "    <tr>\n",
              "      <th>0</th>\n",
              "      <td>C=C1CC12OC1(CN3c4ccc(N5CO[C@@H](C6NC(=O)C6=N)C...</td>\n",
              "      <td>0.454016</td>\n",
              "      <td>7.030630</td>\n",
              "      <td>0.006186</td>\n",
              "      <td>True</td>\n",
              "      <td>False</td>\n",
              "      <td>0.499725</td>\n",
              "      <td>0</td>\n",
              "    </tr>\n",
              "    <tr>\n",
              "      <th>1</th>\n",
              "      <td>CC1=CN(c2ccc(N3CCOC(O)C3)cc2N2OC2CO)C(O)O[CH]1</td>\n",
              "      <td>9.337039</td>\n",
              "      <td>4.999800</td>\n",
              "      <td>0.301536</td>\n",
              "      <td>True</td>\n",
              "      <td>False</td>\n",
              "      <td>0.641730</td>\n",
              "      <td>1</td>\n",
              "    </tr>\n",
              "    <tr>\n",
              "      <th>2</th>\n",
              "      <td>C=C1CN1c1c2cc3c4c1cc(n4C1C=C4[C@H]1OC(=O)N43)C2</td>\n",
              "      <td>2.714174</td>\n",
              "      <td>6.559035</td>\n",
              "      <td>0.031020</td>\n",
              "      <td>True</td>\n",
              "      <td>True</td>\n",
              "      <td>0.646337</td>\n",
              "      <td>2</td>\n",
              "    </tr>\n",
              "    <tr>\n",
              "      <th>3</th>\n",
              "      <td>C=C1CC(C)CN1c1c2cc(c(C)c1F)N1C3OO[C@@H](C4(C)C...</td>\n",
              "      <td>0.995661</td>\n",
              "      <td>7.141887</td>\n",
              "      <td>0.000928</td>\n",
              "      <td>True</td>\n",
              "      <td>False</td>\n",
              "      <td>0.580810</td>\n",
              "      <td>1</td>\n",
              "    </tr>\n",
              "    <tr>\n",
              "      <th>4</th>\n",
              "      <td>CNC1C(=O)c2cc(N3Cc4ccc(o4)C3)cc1c2N1C(=O)O[C@H...</td>\n",
              "      <td>1.142700</td>\n",
              "      <td>6.061354</td>\n",
              "      <td>0.395702</td>\n",
              "      <td>True</td>\n",
              "      <td>False</td>\n",
              "      <td>0.816141</td>\n",
              "      <td>0</td>\n",
              "    </tr>\n",
              "    <tr>\n",
              "      <th>...</th>\n",
              "      <td>...</td>\n",
              "      <td>...</td>\n",
              "      <td>...</td>\n",
              "      <td>...</td>\n",
              "      <td>...</td>\n",
              "      <td>...</td>\n",
              "      <td>...</td>\n",
              "      <td>...</td>\n",
              "    </tr>\n",
              "    <tr>\n",
              "      <th>245</th>\n",
              "      <td>CCN1Cc2cc(N3CC3[C@@H]3C=CCO3)ccc21</td>\n",
              "      <td>2.866601</td>\n",
              "      <td>4.092351</td>\n",
              "      <td>0.959082</td>\n",
              "      <td>True</td>\n",
              "      <td>True</td>\n",
              "      <td>0.596479</td>\n",
              "      <td>1</td>\n",
              "    </tr>\n",
              "    <tr>\n",
              "      <th>246</th>\n",
              "      <td>C=C1COC(C)C(=C)N1c1ccc(N2CO[C@@H](C3NCC3=O)C2)cc1</td>\n",
              "      <td>7.037496</td>\n",
              "      <td>4.615537</td>\n",
              "      <td>0.385656</td>\n",
              "      <td>True</td>\n",
              "      <td>False</td>\n",
              "      <td>0.902122</td>\n",
              "      <td>0</td>\n",
              "    </tr>\n",
              "    <tr>\n",
              "      <th>247</th>\n",
              "      <td>C=C1C=CNC2(NC(=O)[CH]OC(=O)N(c3cc4c5cc3NN5C(C)...</td>\n",
              "      <td>1.115949</td>\n",
              "      <td>7.016311</td>\n",
              "      <td>0.017129</td>\n",
              "      <td>True</td>\n",
              "      <td>False</td>\n",
              "      <td>0.604859</td>\n",
              "      <td>0</td>\n",
              "    </tr>\n",
              "    <tr>\n",
              "      <th>248</th>\n",
              "      <td>Cc1cc(N2C3=CCC(C)OC32)ccc1N1CO[C@H]2CC=CCNC21</td>\n",
              "      <td>5.677250</td>\n",
              "      <td>4.981591</td>\n",
              "      <td>0.046225</td>\n",
              "      <td>True</td>\n",
              "      <td>False</td>\n",
              "      <td>0.662305</td>\n",
              "      <td>1</td>\n",
              "    </tr>\n",
              "    <tr>\n",
              "      <th>249</th>\n",
              "      <td>CCNC1[C@@H]2CC3C4=CC(N(C)C)=C(F)C3=C4N1CO2</td>\n",
              "      <td>3.427982</td>\n",
              "      <td>6.523212</td>\n",
              "      <td>0.468905</td>\n",
              "      <td>True</td>\n",
              "      <td>True</td>\n",
              "      <td>0.846903</td>\n",
              "      <td>1</td>\n",
              "    </tr>\n",
              "  </tbody>\n",
              "</table>\n",
              "<p>250 rows × 8 columns</p>\n",
              "</div>\n",
              "    <div class=\"colab-df-buttons\">\n",
              "\n",
              "  <div class=\"colab-df-container\">\n",
              "    <button class=\"colab-df-convert\" onclick=\"convertToInteractive('df-cb88799f-466b-4425-a7ad-402236f72a0d')\"\n",
              "            title=\"Convert this dataframe to an interactive table.\"\n",
              "            style=\"display:none;\">\n",
              "\n",
              "  <svg xmlns=\"http://www.w3.org/2000/svg\" height=\"24px\" viewBox=\"0 -960 960 960\">\n",
              "    <path d=\"M120-120v-720h720v720H120Zm60-500h600v-160H180v160Zm220 220h160v-160H400v160Zm0 220h160v-160H400v160ZM180-400h160v-160H180v160Zm440 0h160v-160H620v160ZM180-180h160v-160H180v160Zm440 0h160v-160H620v160Z\"/>\n",
              "  </svg>\n",
              "    </button>\n",
              "\n",
              "  <style>\n",
              "    .colab-df-container {\n",
              "      display:flex;\n",
              "      gap: 12px;\n",
              "    }\n",
              "\n",
              "    .colab-df-convert {\n",
              "      background-color: #E8F0FE;\n",
              "      border: none;\n",
              "      border-radius: 50%;\n",
              "      cursor: pointer;\n",
              "      display: none;\n",
              "      fill: #1967D2;\n",
              "      height: 32px;\n",
              "      padding: 0 0 0 0;\n",
              "      width: 32px;\n",
              "    }\n",
              "\n",
              "    .colab-df-convert:hover {\n",
              "      background-color: #E2EBFA;\n",
              "      box-shadow: 0px 1px 2px rgba(60, 64, 67, 0.3), 0px 1px 3px 1px rgba(60, 64, 67, 0.15);\n",
              "      fill: #174EA6;\n",
              "    }\n",
              "\n",
              "    .colab-df-buttons div {\n",
              "      margin-bottom: 4px;\n",
              "    }\n",
              "\n",
              "    [theme=dark] .colab-df-convert {\n",
              "      background-color: #3B4455;\n",
              "      fill: #D2E3FC;\n",
              "    }\n",
              "\n",
              "    [theme=dark] .colab-df-convert:hover {\n",
              "      background-color: #434B5C;\n",
              "      box-shadow: 0px 1px 3px 1px rgba(0, 0, 0, 0.15);\n",
              "      filter: drop-shadow(0px 1px 2px rgba(0, 0, 0, 0.3));\n",
              "      fill: #FFFFFF;\n",
              "    }\n",
              "  </style>\n",
              "\n",
              "    <script>\n",
              "      const buttonEl =\n",
              "        document.querySelector('#df-cb88799f-466b-4425-a7ad-402236f72a0d button.colab-df-convert');\n",
              "      buttonEl.style.display =\n",
              "        google.colab.kernel.accessAllowed ? 'block' : 'none';\n",
              "\n",
              "      async function convertToInteractive(key) {\n",
              "        const element = document.querySelector('#df-cb88799f-466b-4425-a7ad-402236f72a0d');\n",
              "        const dataTable =\n",
              "          await google.colab.kernel.invokeFunction('convertToInteractive',\n",
              "                                                    [key], {});\n",
              "        if (!dataTable) return;\n",
              "\n",
              "        const docLinkHtml = 'Like what you see? Visit the ' +\n",
              "          '<a target=\"_blank\" href=https://colab.research.google.com/notebooks/data_table.ipynb>data table notebook</a>'\n",
              "          + ' to learn more about interactive tables.';\n",
              "        element.innerHTML = '';\n",
              "        dataTable['output_type'] = 'display_data';\n",
              "        await google.colab.output.renderOutput(dataTable, element);\n",
              "        const docLink = document.createElement('div');\n",
              "        docLink.innerHTML = docLinkHtml;\n",
              "        element.appendChild(docLink);\n",
              "      }\n",
              "    </script>\n",
              "  </div>\n",
              "\n",
              "\n",
              "<div id=\"df-1cc3c44b-0bee-4bc3-bb77-2c0d93fcb364\">\n",
              "  <button class=\"colab-df-quickchart\" onclick=\"quickchart('df-1cc3c44b-0bee-4bc3-bb77-2c0d93fcb364')\"\n",
              "            title=\"Suggest charts\"\n",
              "            style=\"display:none;\">\n",
              "\n",
              "<svg xmlns=\"http://www.w3.org/2000/svg\" height=\"24px\"viewBox=\"0 0 24 24\"\n",
              "     width=\"24px\">\n",
              "    <g>\n",
              "        <path d=\"M19 3H5c-1.1 0-2 .9-2 2v14c0 1.1.9 2 2 2h14c1.1 0 2-.9 2-2V5c0-1.1-.9-2-2-2zM9 17H7v-7h2v7zm4 0h-2V7h2v10zm4 0h-2v-4h2v4z\"/>\n",
              "    </g>\n",
              "</svg>\n",
              "  </button>\n",
              "\n",
              "<style>\n",
              "  .colab-df-quickchart {\n",
              "      --bg-color: #E8F0FE;\n",
              "      --fill-color: #1967D2;\n",
              "      --hover-bg-color: #E2EBFA;\n",
              "      --hover-fill-color: #174EA6;\n",
              "      --disabled-fill-color: #AAA;\n",
              "      --disabled-bg-color: #DDD;\n",
              "  }\n",
              "\n",
              "  [theme=dark] .colab-df-quickchart {\n",
              "      --bg-color: #3B4455;\n",
              "      --fill-color: #D2E3FC;\n",
              "      --hover-bg-color: #434B5C;\n",
              "      --hover-fill-color: #FFFFFF;\n",
              "      --disabled-bg-color: #3B4455;\n",
              "      --disabled-fill-color: #666;\n",
              "  }\n",
              "\n",
              "  .colab-df-quickchart {\n",
              "    background-color: var(--bg-color);\n",
              "    border: none;\n",
              "    border-radius: 50%;\n",
              "    cursor: pointer;\n",
              "    display: none;\n",
              "    fill: var(--fill-color);\n",
              "    height: 32px;\n",
              "    padding: 0;\n",
              "    width: 32px;\n",
              "  }\n",
              "\n",
              "  .colab-df-quickchart:hover {\n",
              "    background-color: var(--hover-bg-color);\n",
              "    box-shadow: 0 1px 2px rgba(60, 64, 67, 0.3), 0 1px 3px 1px rgba(60, 64, 67, 0.15);\n",
              "    fill: var(--button-hover-fill-color);\n",
              "  }\n",
              "\n",
              "  .colab-df-quickchart-complete:disabled,\n",
              "  .colab-df-quickchart-complete:disabled:hover {\n",
              "    background-color: var(--disabled-bg-color);\n",
              "    fill: var(--disabled-fill-color);\n",
              "    box-shadow: none;\n",
              "  }\n",
              "\n",
              "  .colab-df-spinner {\n",
              "    border: 2px solid var(--fill-color);\n",
              "    border-color: transparent;\n",
              "    border-bottom-color: var(--fill-color);\n",
              "    animation:\n",
              "      spin 1s steps(1) infinite;\n",
              "  }\n",
              "\n",
              "  @keyframes spin {\n",
              "    0% {\n",
              "      border-color: transparent;\n",
              "      border-bottom-color: var(--fill-color);\n",
              "      border-left-color: var(--fill-color);\n",
              "    }\n",
              "    20% {\n",
              "      border-color: transparent;\n",
              "      border-left-color: var(--fill-color);\n",
              "      border-top-color: var(--fill-color);\n",
              "    }\n",
              "    30% {\n",
              "      border-color: transparent;\n",
              "      border-left-color: var(--fill-color);\n",
              "      border-top-color: var(--fill-color);\n",
              "      border-right-color: var(--fill-color);\n",
              "    }\n",
              "    40% {\n",
              "      border-color: transparent;\n",
              "      border-right-color: var(--fill-color);\n",
              "      border-top-color: var(--fill-color);\n",
              "    }\n",
              "    60% {\n",
              "      border-color: transparent;\n",
              "      border-right-color: var(--fill-color);\n",
              "    }\n",
              "    80% {\n",
              "      border-color: transparent;\n",
              "      border-right-color: var(--fill-color);\n",
              "      border-bottom-color: var(--fill-color);\n",
              "    }\n",
              "    90% {\n",
              "      border-color: transparent;\n",
              "      border-bottom-color: var(--fill-color);\n",
              "    }\n",
              "  }\n",
              "</style>\n",
              "\n",
              "  <script>\n",
              "    async function quickchart(key) {\n",
              "      const quickchartButtonEl =\n",
              "        document.querySelector('#' + key + ' button');\n",
              "      quickchartButtonEl.disabled = true;  // To prevent multiple clicks.\n",
              "      quickchartButtonEl.classList.add('colab-df-spinner');\n",
              "      try {\n",
              "        const charts = await google.colab.kernel.invokeFunction(\n",
              "            'suggestCharts', [key], {});\n",
              "      } catch (error) {\n",
              "        console.error('Error during call to suggestCharts:', error);\n",
              "      }\n",
              "      quickchartButtonEl.classList.remove('colab-df-spinner');\n",
              "      quickchartButtonEl.classList.add('colab-df-quickchart-complete');\n",
              "    }\n",
              "    (() => {\n",
              "      let quickchartButtonEl =\n",
              "        document.querySelector('#df-1cc3c44b-0bee-4bc3-bb77-2c0d93fcb364 button');\n",
              "      quickchartButtonEl.style.display =\n",
              "        google.colab.kernel.accessAllowed ? 'block' : 'none';\n",
              "    })();\n",
              "  </script>\n",
              "</div>\n",
              "    </div>\n",
              "  </div>\n"
            ]
          },
          "metadata": {},
          "execution_count": 2
        }
      ]
    },
    {
      "cell_type": "code",
      "source": [
        "df1['logMIC'] = df1.MIC.apply(lambda x: np.log10(x))\n",
        "df1.logMIC.hist(bins=30)"
      ],
      "metadata": {
        "colab": {
          "base_uri": "https://localhost:8080/",
          "height": 449
        },
        "id": "LB8TniKSwZQ3",
        "outputId": "24675b4d-e9ec-4851-978e-b2712e220a57"
      },
      "execution_count": null,
      "outputs": [
        {
          "output_type": "execute_result",
          "data": {
            "text/plain": [
              "<Axes: >"
            ]
          },
          "metadata": {},
          "execution_count": 6
        },
        {
          "output_type": "display_data",
          "data": {
            "text/plain": [
              "<Figure size 640x480 with 1 Axes>"
            ],
            "image/png": "[encoded data removed]"
          },
          "metadata": {}
        }
      ]
    },
    {
      "cell_type": "code",
      "source": [
        "df1.MIC.describe()"
      ],
      "metadata": {
        "colab": {
          "base_uri": "https://localhost:8080/"
        },
        "id": "Ns6vpMEMweO8",
        "outputId": "bbcd22e8-43f5-4ee5-ec10-cf56c19d198f"
      },
      "execution_count": null,
      "outputs": [
        {
          "output_type": "execute_result",
          "data": {
            "text/plain": [
              "count    250.000000\n",
              "mean       4.072051\n",
              "std        3.469561\n",
              "min        0.198562\n",
              "25%        1.841919\n",
              "50%        3.162330\n",
              "75%        5.406978\n",
              "max       23.234615\n",
              "Name: MIC, dtype: float64"
            ]
          },
          "metadata": {},
          "execution_count": 41
        }
      ]
    },
    {
      "cell_type": "code",
      "source": [
        "df1.lipinski_ro5.value_counts()"
      ],
      "metadata": {
        "colab": {
          "base_uri": "https://localhost:8080/"
        },
        "id": "kvs0xgTXwuKT",
        "outputId": "c36f82e3-1121-4e71-8c72-8680f20cc6d6"
      },
      "execution_count": null,
      "outputs": [
        {
          "output_type": "execute_result",
          "data": {
            "text/plain": [
              "True     245\n",
              "False      5\n",
              "Name: lipinski_ro5, dtype: int64"
            ]
          },
          "metadata": {},
          "execution_count": 9
        }
      ]
    },
    {
      "cell_type": "code",
      "source": [
        "df1.lipinski_ro3.value_counts()"
      ],
      "metadata": {
        "colab": {
          "base_uri": "https://localhost:8080/"
        },
        "id": "X71HQmsow7o0",
        "outputId": "edae1c16-1d5d-4f1b-9d05-262142fd248b"
      },
      "execution_count": null,
      "outputs": [
        {
          "output_type": "execute_result",
          "data": {
            "text/plain": [
              "False    213\n",
              "True      37\n",
              "Name: lipinski_ro3, dtype: int64"
            ]
          },
          "metadata": {},
          "execution_count": 10
        }
      ]
    },
    {
      "cell_type": "code",
      "source": [
        "df1.tox_groups.value_counts()"
      ],
      "metadata": {
        "colab": {
          "base_uri": "https://localhost:8080/"
        },
        "id": "bGLMT6kjw9Fc",
        "outputId": "b7cb5c38-28ac-4369-f2fc-3cdfcb4a0f11"
      },
      "execution_count": null,
      "outputs": [
        {
          "output_type": "execute_result",
          "data": {
            "text/plain": [
              "0    124\n",
              "1     93\n",
              "2     22\n",
              "3      9\n",
              "4      2\n",
              "Name: tox_groups, dtype: int64"
            ]
          },
          "metadata": {},
          "execution_count": 11
        }
      ]
    },
    {
      "cell_type": "code",
      "source": [
        "df1.sascore.hist(bins=30)"
      ],
      "metadata": {
        "colab": {
          "base_uri": "https://localhost:8080/",
          "height": 447
        },
        "id": "eDPz8uzJxAXc",
        "outputId": "629d7a1e-7aa7-4ce2-ae63-24b15bad0f6f"
      },
      "execution_count": null,
      "outputs": [
        {
          "output_type": "execute_result",
          "data": {
            "text/plain": [
              "<Axes: >"
            ]
          },
          "metadata": {},
          "execution_count": 12
        },
        {
          "output_type": "display_data",
          "data": {
            "text/plain": [
              "<Figure size 640x480 with 1 Axes>"
            ],
            "image/png": "[encoded data removed]"
          },
          "metadata": {}
        }
      ]
    },
    {
      "cell_type": "code",
      "source": [
        "df1.sascore.describe()"
      ],
      "metadata": {
        "colab": {
          "base_uri": "https://localhost:8080/"
        },
        "id": "hCr76YFTxFCi",
        "outputId": "dbb581d9-a60e-4608-d40a-75f99d35425d"
      },
      "execution_count": null,
      "outputs": [
        {
          "output_type": "execute_result",
          "data": {
            "text/plain": [
              "count    250.000000\n",
              "mean       5.502750\n",
              "std        0.867616\n",
              "min        3.610042\n",
              "25%        4.818523\n",
              "50%        5.444823\n",
              "75%        6.141878\n",
              "max        7.675549\n",
              "Name: sascore, dtype: float64"
            ]
          },
          "metadata": {},
          "execution_count": 13
        }
      ]
    },
    {
      "cell_type": "code",
      "source": [
        "df1.QED.hist(bins=30)"
      ],
      "metadata": {
        "colab": {
          "base_uri": "https://localhost:8080/",
          "height": 447
        },
        "id": "s3bAjG6E2VGF",
        "outputId": "a56eed99-197e-4153-8944-1f24e7e4c83a"
      },
      "execution_count": null,
      "outputs": [
        {
          "output_type": "execute_result",
          "data": {
            "text/plain": [
              "<Axes: >"
            ]
          },
          "metadata": {},
          "execution_count": 46
        },
        {
          "output_type": "display_data",
          "data": {
            "text/plain": [
              "<Figure size 640x480 with 1 Axes>"
            ],
            "image/png": "[encoded data removed]"
          },
          "metadata": {}
        }
      ]
    },
    {
      "cell_type": "code",
      "source": [
        "df1.QED.describe()"
      ],
      "metadata": {
        "colab": {
          "base_uri": "https://localhost:8080/"
        },
        "id": "VDy0wDuR2Zfp",
        "outputId": "b5c6e2ca-b87b-4e75-8fd9-c963bd0c7774"
      },
      "execution_count": null,
      "outputs": [
        {
          "output_type": "execute_result",
          "data": {
            "text/plain": [
              "count    250.000000\n",
              "mean       0.690355\n",
              "std        0.178890\n",
              "min        0.111505\n",
              "25%        0.586404\n",
              "50%        0.758603\n",
              "75%        0.828062\n",
              "max        0.929731\n",
              "Name: QED, dtype: float64"
            ]
          },
          "metadata": {},
          "execution_count": 47
        }
      ]
    },
    {
      "cell_type": "markdown",
      "source": [
        "# FREED"
      ],
      "metadata": {
        "id": "6UZYDqmZxONY"
      }
    },
    {
      "cell_type": "code",
      "source": [
        "df2 = pd.read_csv('freed_result.csv')\n",
        "df2"
      ],
      "metadata": {
        "colab": {
          "base_uri": "https://localhost:8080/",
          "height": 423
        },
        "id": "gkl8CBwPxJDv",
        "outputId": "d63abf7d-b555-454c-88c9-a819e94323fd"
      },
      "execution_count": null,
      "outputs": [
        {
          "output_type": "execute_result",
          "data": {
            "text/plain": [
              "                                                smiles       MIC   sascore  \\\n",
              "0    CCC(Nc1nnc(CC(F)C2CN(c3ccccc3)C(=O)O2)o1)C(=O)...  1.713562  4.043118   \n",
              "1               N#CN(CC(F)c1cncnc1)c1ccc(N2CCOC2=O)cc1  1.041969  3.580158   \n",
              "2          O=CNCc1ccc(N2CC(c3nnc(Nc4ccon4)o3)OC2=O)cc1  3.410063  3.580056   \n",
              "3    O=C1OC(N2CCCC2=O)CN1c1ccc(-c2cccc(C=N[NH+]3CCc...  3.193984  4.126010   \n",
              "4    CS(=O)CC(F)C1CN(c2ccc(C(=O)C(=O)C3CCS(=O)(=O)C...  6.459282  4.356530   \n",
              "..                                                 ...       ...       ...   \n",
              "995  C#CS(=O)(=O)NCN1C(=O)CCC1c1ccc(N2CC(C3CCc4cnn(...  5.337763  4.488449   \n",
              "996     CC(=O)CN(C)CC(=O)C(C)C(N)C1CN(c2ccccc2)C(=O)O1  6.624726  3.810561   \n",
              "997  N#CCNS(=O)(=O)c1cccc(-c2ccc(N3CC(CCF)OC3=O)cc2)c1  4.960702  3.055811   \n",
              "998  CS(=O)C1CCC(C2CN(c3ccc(CN[SH](=O)=O)cc3)C(=O)O...  3.032141  4.990075   \n",
              "999  CN(CC=O)c1cc2c(cc1C1CN(c3ccccc3)C(=O)O1)OC(S(=...  2.582617  4.487774   \n",
              "\n",
              "      rascore  lipinski_ro5  lipinski_ro3       QED  tox_groups  \n",
              "0    0.759194          True         False  0.657794           0  \n",
              "1    0.967612          True         False  0.619468           1  \n",
              "2    0.800629          True         False  0.595953           1  \n",
              "3    0.958944          True         False  0.569353           1  \n",
              "4    0.986001          True         False  0.452631           0  \n",
              "..        ...           ...           ...       ...         ...  \n",
              "995  0.937377          True         False  0.607807           0  \n",
              "996  0.771299          True         False  0.755915           0  \n",
              "997  0.996508          True         False  0.716878           1  \n",
              "998  0.306058          True         False  0.521548           0  \n",
              "999  0.163660          True         False  0.454825           1  \n",
              "\n",
              "[1000 rows x 8 columns]"
            ],
            "text/html": [
              "\n",
              "  <div id=\"df-defb892d-7caa-4133-abc3-06bb05b2cf4f\" class=\"colab-df-container\">\n",
              "    <div>\n",
              "<style scoped>\n",
              "    .dataframe tbody tr th:only-of-type {\n",
              "        vertical-align: middle;\n",
              "    }\n",
              "\n",
              "    .dataframe tbody tr th {\n",
              "        vertical-align: top;\n",
              "    }\n",
              "\n",
              "    .dataframe thead th {\n",
              "        text-align: right;\n",
              "    }\n",
              "</style>\n",
              "<table border=\"1\" class=\"dataframe\">\n",
              "  <thead>\n",
              "    <tr style=\"text-align: right;\">\n",
              "      <th></th>\n",
              "      <th>smiles</th>\n",
              "      <th>MIC</th>\n",
              "      <th>sascore</th>\n",
              "      <th>rascore</th>\n",
              "      <th>lipinski_ro5</th>\n",
              "      <th>lipinski_ro3</th>\n",
              "      <th>QED</th>\n",
              "      <th>tox_groups</th>\n",
              "    </tr>\n",
              "  </thead>\n",
              "  <tbody>\n",
              "    <tr>\n",
              "      <th>0</th>\n",
              "      <td>CCC(Nc1nnc(CC(F)C2CN(c3ccccc3)C(=O)O2)o1)C(=O)...</td>\n",
              "      <td>1.713562</td>\n",
              "      <td>4.043118</td>\n",
              "      <td>0.759194</td>\n",
              "      <td>True</td>\n",
              "      <td>False</td>\n",
              "      <td>0.657794</td>\n",
              "      <td>0</td>\n",
              "    </tr>\n",
              "    <tr>\n",
              "      <th>1</th>\n",
              "      <td>N#CN(CC(F)c1cncnc1)c1ccc(N2CCOC2=O)cc1</td>\n",
              "      <td>1.041969</td>\n",
              "      <td>3.580158</td>\n",
              "      <td>0.967612</td>\n",
              "      <td>True</td>\n",
              "      <td>False</td>\n",
              "      <td>0.619468</td>\n",
              "      <td>1</td>\n",
              "    </tr>\n",
              "    <tr>\n",
              "      <th>2</th>\n",
              "      <td>O=CNCc1ccc(N2CC(c3nnc(Nc4ccon4)o3)OC2=O)cc1</td>\n",
              "      <td>3.410063</td>\n",
              "      <td>3.580056</td>\n",
              "      <td>0.800629</td>\n",
              "      <td>True</td>\n",
              "      <td>False</td>\n",
              "      <td>0.595953</td>\n",
              "      <td>1</td>\n",
              "    </tr>\n",
              "    <tr>\n",
              "      <th>3</th>\n",
              "      <td>O=C1OC(N2CCCC2=O)CN1c1ccc(-c2cccc(C=N[NH+]3CCc...</td>\n",
              "      <td>3.193984</td>\n",
              "      <td>4.126010</td>\n",
              "      <td>0.958944</td>\n",
              "      <td>True</td>\n",
              "      <td>False</td>\n",
              "      <td>0.569353</td>\n",
              "      <td>1</td>\n",
              "    </tr>\n",
              "    <tr>\n",
              "      <th>4</th>\n",
              "      <td>CS(=O)CC(F)C1CN(c2ccc(C(=O)C(=O)C3CCS(=O)(=O)C...</td>\n",
              "      <td>6.459282</td>\n",
              "      <td>4.356530</td>\n",
              "      <td>0.986001</td>\n",
              "      <td>True</td>\n",
              "      <td>False</td>\n",
              "      <td>0.452631</td>\n",
              "      <td>0</td>\n",
              "    </tr>\n",
              "    <tr>\n",
              "      <th>...</th>\n",
              "      <td>...</td>\n",
              "      <td>...</td>\n",
              "      <td>...</td>\n",
              "      <td>...</td>\n",
              "      <td>...</td>\n",
              "      <td>...</td>\n",
              "      <td>...</td>\n",
              "      <td>...</td>\n",
              "    </tr>\n",
              "    <tr>\n",
              "      <th>995</th>\n",
              "      <td>C#CS(=O)(=O)NCN1C(=O)CCC1c1ccc(N2CC(C3CCc4cnn(...</td>\n",
              "      <td>5.337763</td>\n",
              "      <td>4.488449</td>\n",
              "      <td>0.937377</td>\n",
              "      <td>True</td>\n",
              "      <td>False</td>\n",
              "      <td>0.607807</td>\n",
              "      <td>0</td>\n",
              "    </tr>\n",
              "    <tr>\n",
              "      <th>996</th>\n",
              "      <td>CC(=O)CN(C)CC(=O)C(C)C(N)C1CN(c2ccccc2)C(=O)O1</td>\n",
              "      <td>6.624726</td>\n",
              "      <td>3.810561</td>\n",
              "      <td>0.771299</td>\n",
              "      <td>True</td>\n",
              "      <td>False</td>\n",
              "      <td>0.755915</td>\n",
              "      <td>0</td>\n",
              "    </tr>\n",
              "    <tr>\n",
              "      <th>997</th>\n",
              "      <td>N#CCNS(=O)(=O)c1cccc(-c2ccc(N3CC(CCF)OC3=O)cc2)c1</td>\n",
              "      <td>4.960702</td>\n",
              "      <td>3.055811</td>\n",
              "      <td>0.996508</td>\n",
              "      <td>True</td>\n",
              "      <td>False</td>\n",
              "      <td>0.716878</td>\n",
              "      <td>1</td>\n",
              "    </tr>\n",
              "    <tr>\n",
              "      <th>998</th>\n",
              "      <td>CS(=O)C1CCC(C2CN(c3ccc(CN[SH](=O)=O)cc3)C(=O)O...</td>\n",
              "      <td>3.032141</td>\n",
              "      <td>4.990075</td>\n",
              "      <td>0.306058</td>\n",
              "      <td>True</td>\n",
              "      <td>False</td>\n",
              "      <td>0.521548</td>\n",
              "      <td>0</td>\n",
              "    </tr>\n",
              "    <tr>\n",
              "      <th>999</th>\n",
              "      <td>CN(CC=O)c1cc2c(cc1C1CN(c3ccccc3)C(=O)O1)OC(S(=...</td>\n",
              "      <td>2.582617</td>\n",
              "      <td>4.487774</td>\n",
              "      <td>0.163660</td>\n",
              "      <td>True</td>\n",
              "      <td>False</td>\n",
              "      <td>0.454825</td>\n",
              "      <td>1</td>\n",
              "    </tr>\n",
              "  </tbody>\n",
              "</table>\n",
              "<p>1000 rows × 8 columns</p>\n",
              "</div>\n",
              "    <div class=\"colab-df-buttons\">\n",
              "\n",
              "  <div class=\"colab-df-container\">\n",
              "    <button class=\"colab-df-convert\" onclick=\"convertToInteractive('df-defb892d-7caa-4133-abc3-06bb05b2cf4f')\"\n",
              "            title=\"Convert this dataframe to an interactive table.\"\n",
              "            style=\"display:none;\">\n",
              "\n",
              "  <svg xmlns=\"http://www.w3.org/2000/svg\" height=\"24px\" viewBox=\"0 -960 960 960\">\n",
              "    <path d=\"M120-120v-720h720v720H120Zm60-500h600v-160H180v160Zm220 220h160v-160H400v160Zm0 220h160v-160H400v160ZM180-400h160v-160H180v160Zm440 0h160v-160H620v160ZM180-180h160v-160H180v160Zm440 0h160v-160H620v160Z\"/>\n",
              "  </svg>\n",
              "    </button>\n",
              "\n",
              "  <style>\n",
              "    .colab-df-container {\n",
              "      display:flex;\n",
              "      gap: 12px;\n",
              "    }\n",
              "\n",
              "    .colab-df-convert {\n",
              "      background-color: #E8F0FE;\n",
              "      border: none;\n",
              "      border-radius: 50%;\n",
              "      cursor: pointer;\n",
              "      display: none;\n",
              "      fill: #1967D2;\n",
              "      height: 32px;\n",
              "      padding: 0 0 0 0;\n",
              "      width: 32px;\n",
              "    }\n",
              "\n",
              "    .colab-df-convert:hover {\n",
              "      background-color: #E2EBFA;\n",
              "      box-shadow: 0px 1px 2px rgba(60, 64, 67, 0.3), 0px 1px 3px 1px rgba(60, 64, 67, 0.15);\n",
              "      fill: #174EA6;\n",
              "    }\n",
              "\n",
              "    .colab-df-buttons div {\n",
              "      margin-bottom: 4px;\n",
              "    }\n",
              "\n",
              "    [theme=dark] .colab-df-convert {\n",
              "      background-color: #3B4455;\n",
              "      fill: #D2E3FC;\n",
              "    }\n",
              "\n",
              "    [theme=dark] .colab-df-convert:hover {\n",
              "      background-color: #434B5C;\n",
              "      box-shadow: 0px 1px 3px 1px rgba(0, 0, 0, 0.15);\n",
              "      filter: drop-shadow(0px 1px 2px rgba(0, 0, 0, 0.3));\n",
              "      fill: #FFFFFF;\n",
              "    }\n",
              "  </style>\n",
              "\n",
              "    <script>\n",
              "      const buttonEl =\n",
              "        document.querySelector('#df-defb892d-7caa-4133-abc3-06bb05b2cf4f button.colab-df-convert');\n",
              "      buttonEl.style.display =\n",
              "        google.colab.kernel.accessAllowed ? 'block' : 'none';\n",
              "\n",
              "      async function convertToInteractive(key) {\n",
              "        const element = document.querySelector('#df-defb892d-7caa-4133-abc3-06bb05b2cf4f');\n",
              "        const dataTable =\n",
              "          await google.colab.kernel.invokeFunction('convertToInteractive',\n",
              "                                                    [key], {});\n",
              "        if (!dataTable) return;\n",
              "\n",
              "        const docLinkHtml = 'Like what you see? Visit the ' +\n",
              "          '<a target=\"_blank\" href=https://colab.research.google.com/notebooks/data_table.ipynb>data table notebook</a>'\n",
              "          + ' to learn more about interactive tables.';\n",
              "        element.innerHTML = '';\n",
              "        dataTable['output_type'] = 'display_data';\n",
              "        await google.colab.output.renderOutput(dataTable, element);\n",
              "        const docLink = document.createElement('div');\n",
              "        docLink.innerHTML = docLinkHtml;\n",
              "        element.appendChild(docLink);\n",
              "      }\n",
              "    </script>\n",
              "  </div>\n",
              "\n",
              "\n",
              "<div id=\"df-2a16e27a-274d-4f4a-9a6a-e521678ae213\">\n",
              "  <button class=\"colab-df-quickchart\" onclick=\"quickchart('df-2a16e27a-274d-4f4a-9a6a-e521678ae213')\"\n",
              "            title=\"Suggest charts\"\n",
              "            style=\"display:none;\">\n",
              "\n",
              "<svg xmlns=\"http://www.w3.org/2000/svg\" height=\"24px\"viewBox=\"0 0 24 24\"\n",
              "     width=\"24px\">\n",
              "    <g>\n",
              "        <path d=\"M19 3H5c-1.1 0-2 .9-2 2v14c0 1.1.9 2 2 2h14c1.1 0 2-.9 2-2V5c0-1.1-.9-2-2-2zM9 17H7v-7h2v7zm4 0h-2V7h2v10zm4 0h-2v-4h2v4z\"/>\n",
              "    </g>\n",
              "</svg>\n",
              "  </button>\n",
              "\n",
              "<style>\n",
              "  .colab-df-quickchart {\n",
              "      --bg-color: #E8F0FE;\n",
              "      --fill-color: #1967D2;\n",
              "      --hover-bg-color: #E2EBFA;\n",
              "      --hover-fill-color: #174EA6;\n",
              "      --disabled-fill-color: #AAA;\n",
              "      --disabled-bg-color: #DDD;\n",
              "  }\n",
              "\n",
              "  [theme=dark] .colab-df-quickchart {\n",
              "      --bg-color: #3B4455;\n",
              "      --fill-color: #D2E3FC;\n",
              "      --hover-bg-color: #434B5C;\n",
              "      --hover-fill-color: #FFFFFF;\n",
              "      --disabled-bg-color: #3B4455;\n",
              "      --disabled-fill-color: #666;\n",
              "  }\n",
              "\n",
              "  .colab-df-quickchart {\n",
              "    background-color: var(--bg-color);\n",
              "    border: none;\n",
              "    border-radius: 50%;\n",
              "    cursor: pointer;\n",
              "    display: none;\n",
              "    fill: var(--fill-color);\n",
              "    height: 32px;\n",
              "    padding: 0;\n",
              "    width: 32px;\n",
              "  }\n",
              "\n",
              "  .colab-df-quickchart:hover {\n",
              "    background-color: var(--hover-bg-color);\n",
              "    box-shadow: 0 1px 2px rgba(60, 64, 67, 0.3), 0 1px 3px 1px rgba(60, 64, 67, 0.15);\n",
              "    fill: var(--button-hover-fill-color);\n",
              "  }\n",
              "\n",
              "  .colab-df-quickchart-complete:disabled,\n",
              "  .colab-df-quickchart-complete:disabled:hover {\n",
              "    background-color: var(--disabled-bg-color);\n",
              "    fill: var(--disabled-fill-color);\n",
              "    box-shadow: none;\n",
              "  }\n",
              "\n",
              "  .colab-df-spinner {\n",
              "    border: 2px solid var(--fill-color);\n",
              "    border-color: transparent;\n",
              "    border-bottom-color: var(--fill-color);\n",
              "    animation:\n",
              "      spin 1s steps(1) infinite;\n",
              "  }\n",
              "\n",
              "  @keyframes spin {\n",
              "    0% {\n",
              "      border-color: transparent;\n",
              "      border-bottom-color: var(--fill-color);\n",
              "      border-left-color: var(--fill-color);\n",
              "    }\n",
              "    20% {\n",
              "      border-color: transparent;\n",
              "      border-left-color: var(--fill-color);\n",
              "      border-top-color: var(--fill-color);\n",
              "    }\n",
              "    30% {\n",
              "      border-color: transparent;\n",
              "      border-left-color: var(--fill-color);\n",
              "      border-top-color: var(--fill-color);\n",
              "      border-right-color: var(--fill-color);\n",
              "    }\n",
              "    40% {\n",
              "      border-color: transparent;\n",
              "      border-right-color: var(--fill-color);\n",
              "      border-top-color: var(--fill-color);\n",
              "    }\n",
              "    60% {\n",
              "      border-color: transparent;\n",
              "      border-right-color: var(--fill-color);\n",
              "    }\n",
              "    80% {\n",
              "      border-color: transparent;\n",
              "      border-right-color: var(--fill-color);\n",
              "      border-bottom-color: var(--fill-color);\n",
              "    }\n",
              "    90% {\n",
              "      border-color: transparent;\n",
              "      border-bottom-color: var(--fill-color);\n",
              "    }\n",
              "  }\n",
              "</style>\n",
              "\n",
              "  <script>\n",
              "    async function quickchart(key) {\n",
              "      const quickchartButtonEl =\n",
              "        document.querySelector('#' + key + ' button');\n",
              "      quickchartButtonEl.disabled = true;  // To prevent multiple clicks.\n",
              "      quickchartButtonEl.classList.add('colab-df-spinner');\n",
              "      try {\n",
              "        const charts = await google.colab.kernel.invokeFunction(\n",
              "            'suggestCharts', [key], {});\n",
              "      } catch (error) {\n",
              "        console.error('Error during call to suggestCharts:', error);\n",
              "      }\n",
              "      quickchartButtonEl.classList.remove('colab-df-spinner');\n",
              "      quickchartButtonEl.classList.add('colab-df-quickchart-complete');\n",
              "    }\n",
              "    (() => {\n",
              "      let quickchartButtonEl =\n",
              "        document.querySelector('#df-2a16e27a-274d-4f4a-9a6a-e521678ae213 button');\n",
              "      quickchartButtonEl.style.display =\n",
              "        google.colab.kernel.accessAllowed ? 'block' : 'none';\n",
              "    })();\n",
              "  </script>\n",
              "</div>\n",
              "    </div>\n",
              "  </div>\n"
            ]
          },
          "metadata": {},
          "execution_count": 14
        }
      ]
    },
    {
      "cell_type": "code",
      "source": [
        "df2['logMIC'] = df2.MIC.apply(lambda x: np.log10(x))\n",
        "df2.logMIC.hist(bins=30)"
      ],
      "metadata": {
        "colab": {
          "base_uri": "https://localhost:8080/",
          "height": 447
        },
        "outputId": "3bb72c5c-af9e-4a9b-9615-5006248bca66",
        "id": "iLiXeT6nxXhx"
      },
      "execution_count": null,
      "outputs": [
        {
          "output_type": "execute_result",
          "data": {
            "text/plain": [
              "<Axes: >"
            ]
          },
          "metadata": {},
          "execution_count": 15
        },
        {
          "output_type": "display_data",
          "data": {
            "text/plain": [
              "<Figure size 640x480 with 1 Axes>"
            ],
            "image/png": "[encoded data removed]"
          },
          "metadata": {}
        }
      ]
    },
    {
      "cell_type": "code",
      "source": [
        "df2.MIC.describe()"
      ],
      "metadata": {
        "colab": {
          "base_uri": "https://localhost:8080/"
        },
        "outputId": "1bac654e-d856-4fb2-fcd1-118f148bf91c",
        "id": "6umaXWnkxXhz"
      },
      "execution_count": null,
      "outputs": [
        {
          "output_type": "execute_result",
          "data": {
            "text/plain": [
              "count    1000.000000\n",
              "mean        5.160892\n",
              "std         4.129927\n",
              "min         0.286491\n",
              "25%         2.456199\n",
              "50%         4.095377\n",
              "75%         6.486196\n",
              "max        30.754900\n",
              "Name: MIC, dtype: float64"
            ]
          },
          "metadata": {},
          "execution_count": 42
        }
      ]
    },
    {
      "cell_type": "code",
      "source": [
        "df2.lipinski_ro5.value_counts()"
      ],
      "metadata": {
        "colab": {
          "base_uri": "https://localhost:8080/"
        },
        "outputId": "6534056a-0194-43b4-ab2e-fbed83f96394",
        "id": "XSXeqlp0xXh1"
      },
      "execution_count": null,
      "outputs": [
        {
          "output_type": "execute_result",
          "data": {
            "text/plain": [
              "True     991\n",
              "False      9\n",
              "Name: lipinski_ro5, dtype: int64"
            ]
          },
          "metadata": {},
          "execution_count": 19
        }
      ]
    },
    {
      "cell_type": "code",
      "source": [
        "df2.lipinski_ro3.value_counts()"
      ],
      "metadata": {
        "colab": {
          "base_uri": "https://localhost:8080/"
        },
        "outputId": "f026ed14-178b-4199-e61e-03d573b60362",
        "id": "wCxLmfi_xXh1"
      },
      "execution_count": null,
      "outputs": [
        {
          "output_type": "execute_result",
          "data": {
            "text/plain": [
              "False    992\n",
              "True       8\n",
              "Name: lipinski_ro3, dtype: int64"
            ]
          },
          "metadata": {},
          "execution_count": 20
        }
      ]
    },
    {
      "cell_type": "code",
      "source": [
        "df2.tox_groups.value_counts()"
      ],
      "metadata": {
        "colab": {
          "base_uri": "https://localhost:8080/"
        },
        "outputId": "054a465c-2eee-4fed-99fa-ef559a78243e",
        "id": "zb6zP7iGxXh1"
      },
      "execution_count": null,
      "outputs": [
        {
          "output_type": "execute_result",
          "data": {
            "text/plain": [
              "1    457\n",
              "0    432\n",
              "2     94\n",
              "3     16\n",
              "4      1\n",
              "Name: tox_groups, dtype: int64"
            ]
          },
          "metadata": {},
          "execution_count": 21
        }
      ]
    },
    {
      "cell_type": "code",
      "source": [
        "df2.sascore.hist(bins=30)"
      ],
      "metadata": {
        "colab": {
          "base_uri": "https://localhost:8080/",
          "height": 447
        },
        "outputId": "ca9522c0-ed06-48fe-b3a3-c06cf6d827aa",
        "id": "4dXRgxiGxXh1"
      },
      "execution_count": null,
      "outputs": [
        {
          "output_type": "execute_result",
          "data": {
            "text/plain": [
              "<Axes: >"
            ]
          },
          "metadata": {},
          "execution_count": 22
        },
        {
          "output_type": "display_data",
          "data": {
            "text/plain": [
              "<Figure size 640x480 with 1 Axes>"
            ],
            "image/png": "[encoded data removed]"
          },
          "metadata": {}
        }
      ]
    },
    {
      "cell_type": "code",
      "source": [
        "df2.sascore.describe()"
      ],
      "metadata": {
        "colab": {
          "base_uri": "https://localhost:8080/"
        },
        "outputId": "b349f1dc-e45e-4d7a-bbbb-ec3b700665b8",
        "id": "-BB89f-3xXh2"
      },
      "execution_count": null,
      "outputs": [
        {
          "output_type": "execute_result",
          "data": {
            "text/plain": [
              "count    1000.000000\n",
              "mean        4.292012\n",
              "std         0.489126\n",
              "min         2.711046\n",
              "25%         3.979441\n",
              "50%         4.300943\n",
              "75%         4.622545\n",
              "max         5.689594\n",
              "Name: sascore, dtype: float64"
            ]
          },
          "metadata": {},
          "execution_count": 23
        }
      ]
    },
    {
      "cell_type": "code",
      "source": [
        "df2.QED.hist(bins=30)"
      ],
      "metadata": {
        "colab": {
          "base_uri": "https://localhost:8080/",
          "height": 448
        },
        "outputId": "6bfdfe09-54ce-4f71-e3f5-d4938ddaad46",
        "id": "X2e8ogkD2k7k"
      },
      "execution_count": null,
      "outputs": [
        {
          "output_type": "execute_result",
          "data": {
            "text/plain": [
              "<Axes: >"
            ]
          },
          "metadata": {},
          "execution_count": 48
        },
        {
          "output_type": "display_data",
          "data": {
            "text/plain": [
              "<Figure size 640x480 with 1 Axes>"
            ],
            "image/png": "[encoded data removed]"
          },
          "metadata": {}
        }
      ]
    },
    {
      "cell_type": "code",
      "source": [
        "df2.QED.describe()"
      ],
      "metadata": {
        "colab": {
          "base_uri": "https://localhost:8080/"
        },
        "outputId": "674fac6a-f709-4fe4-b700-63b9dd5073ce",
        "id": "uyOdslRB2k7u"
      },
      "execution_count": null,
      "outputs": [
        {
          "output_type": "execute_result",
          "data": {
            "text/plain": [
              "count    1000.000000\n",
              "mean        0.535852\n",
              "std         0.142369\n",
              "min         0.138318\n",
              "25%         0.438451\n",
              "50%         0.535012\n",
              "75%         0.638607\n",
              "max         0.925613\n",
              "Name: QED, dtype: float64"
            ]
          },
          "metadata": {},
          "execution_count": 50
        }
      ]
    },
    {
      "cell_type": "markdown",
      "source": [
        "# REINVENT"
      ],
      "metadata": {
        "id": "rvxIoGGWxun_"
      }
    },
    {
      "cell_type": "markdown",
      "source": [
        "## Mol2mol"
      ],
      "metadata": {
        "id": "5ui4F2guyIOr"
      }
    },
    {
      "cell_type": "code",
      "source": [
        "df3 = pd.read_csv('reinvent_mol2mol_result.csv')\n",
        "df3"
      ],
      "metadata": {
        "colab": {
          "base_uri": "https://localhost:8080/",
          "height": 423
        },
        "outputId": "0d09d9a4-8d05-4312-caf1-fb539da200ef",
        "id": "LAu6YlHzxzDK"
      },
      "execution_count": null,
      "outputs": [
        {
          "output_type": "execute_result",
          "data": {
            "text/plain": [
              "                                                smiles       MIC   sascore  \\\n",
              "0    CC(=O)NC[C@H]1CN(c2ccc(N3CCN(C(=O)CO)CC3)c(F)c...  2.692635  2.881067   \n",
              "1    CC(=O)NC[C@H]1CN(c2ccc(N3CCN(Cc4ccc([N+](=O)[O...  1.413773  3.133012   \n",
              "2    CC(=O)NC[C@H]1CN(c2ccc(N3CCN(Cc4ccc([N+](=O)[O...  1.790756  3.099455   \n",
              "3    CC(=O)NC[C@H]1CN(c2ccc(N3CCN(C(=O)/C=C/c4c[nH]...  6.446515  3.132964   \n",
              "4    CC(=O)NC[C@H]1CN(c2ccc(N3CCN(C(=O)/C=C/c4ccc([...  2.843136  3.290835   \n",
              "..                                                 ...       ...       ...   \n",
              "268  N/C(=N\\O)c1ccc(-c2ccc(N3C[C@H](CNC(=O)C(F)(F)F...  4.238221  3.050043   \n",
              "269  COC(=O)c1ccc(C(=O)NC[C@H]2CN(c3ccc(-c4ccc(CNCc...  0.234301  3.339265   \n",
              "270  COC(=O)c1ccc(C(=O)NC[C@H]2CN(c3ccc(-c4ccc(CNCc...  0.177672  3.275886   \n",
              "271  CC(=O)NC[C@H]1CN(c2ccc(-c3ccc(CNC(=O)/C=C/c4cn...  3.024024  3.386139   \n",
              "272  COc1ccc(NCc2ccc(-c3ccc(N4C[C@H](CNC(C)=O)OC4=O...  5.083566  2.844107   \n",
              "\n",
              "      rascore  lipinski_ro5  lipinski_ro3       QED  tox_groups  \n",
              "0    0.980801          True         False  0.724863           0  \n",
              "1    0.996446          True         False  0.482339           0  \n",
              "2    0.997693          True         False  0.491611           0  \n",
              "3    0.996595          True         False  0.501985           0  \n",
              "4    0.994196          True         False  0.340006           0  \n",
              "..        ...           ...           ...       ...         ...  \n",
              "268  0.174784          True         False  0.217277           2  \n",
              "269  0.974633          True         False  0.254015           0  \n",
              "270  0.955001          True         False  0.255942           0  \n",
              "271  0.984744          True         False  0.403721           0  \n",
              "272  0.948389          True         False  0.453613           0  \n",
              "\n",
              "[273 rows x 8 columns]"
            ],
            "text/html": [
              "\n",
              "  <div id=\"df-0e0c35f5-88b5-4c97-9c29-7c901cce0052\" class=\"colab-df-container\">\n",
              "    <div>\n",
              "<style scoped>\n",
              "    .dataframe tbody tr th:only-of-type {\n",
              "        vertical-align: middle;\n",
              "    }\n",
              "\n",
              "    .dataframe tbody tr th {\n",
              "        vertical-align: top;\n",
              "    }\n",
              "\n",
              "    .dataframe thead th {\n",
              "        text-align: right;\n",
              "    }\n",
              "</style>\n",
              "<table border=\"1\" class=\"dataframe\">\n",
              "  <thead>\n",
              "    <tr style=\"text-align: right;\">\n",
              "      <th></th>\n",
              "      <th>smiles</th>\n",
              "      <th>MIC</th>\n",
              "      <th>sascore</th>\n",
              "      <th>rascore</th>\n",
              "      <th>lipinski_ro5</th>\n",
              "      <th>lipinski_ro3</th>\n",
              "      <th>QED</th>\n",
              "      <th>tox_groups</th>\n",
              "    </tr>\n",
              "  </thead>\n",
              "  <tbody>\n",
              "    <tr>\n",
              "      <th>0</th>\n",
              "      <td>CC(=O)NC[C@H]1CN(c2ccc(N3CCN(C(=O)CO)CC3)c(F)c...</td>\n",
              "      <td>2.692635</td>\n",
              "      <td>2.881067</td>\n",
              "      <td>0.980801</td>\n",
              "      <td>True</td>\n",
              "      <td>False</td>\n",
              "      <td>0.724863</td>\n",
              "      <td>0</td>\n",
              "    </tr>\n",
              "    <tr>\n",
              "      <th>1</th>\n",
              "      <td>CC(=O)NC[C@H]1CN(c2ccc(N3CCN(Cc4ccc([N+](=O)[O...</td>\n",
              "      <td>1.413773</td>\n",
              "      <td>3.133012</td>\n",
              "      <td>0.996446</td>\n",
              "      <td>True</td>\n",
              "      <td>False</td>\n",
              "      <td>0.482339</td>\n",
              "      <td>0</td>\n",
              "    </tr>\n",
              "    <tr>\n",
              "      <th>2</th>\n",
              "      <td>CC(=O)NC[C@H]1CN(c2ccc(N3CCN(Cc4ccc([N+](=O)[O...</td>\n",
              "      <td>1.790756</td>\n",
              "      <td>3.099455</td>\n",
              "      <td>0.997693</td>\n",
              "      <td>True</td>\n",
              "      <td>False</td>\n",
              "      <td>0.491611</td>\n",
              "      <td>0</td>\n",
              "    </tr>\n",
              "    <tr>\n",
              "      <th>3</th>\n",
              "      <td>CC(=O)NC[C@H]1CN(c2ccc(N3CCN(C(=O)/C=C/c4c[nH]...</td>\n",
              "      <td>6.446515</td>\n",
              "      <td>3.132964</td>\n",
              "      <td>0.996595</td>\n",
              "      <td>True</td>\n",
              "      <td>False</td>\n",
              "      <td>0.501985</td>\n",
              "      <td>0</td>\n",
              "    </tr>\n",
              "    <tr>\n",
              "      <th>4</th>\n",
              "      <td>CC(=O)NC[C@H]1CN(c2ccc(N3CCN(C(=O)/C=C/c4ccc([...</td>\n",
              "      <td>2.843136</td>\n",
              "      <td>3.290835</td>\n",
              "      <td>0.994196</td>\n",
              "      <td>True</td>\n",
              "      <td>False</td>\n",
              "      <td>0.340006</td>\n",
              "      <td>0</td>\n",
              "    </tr>\n",
              "    <tr>\n",
              "      <th>...</th>\n",
              "      <td>...</td>\n",
              "      <td>...</td>\n",
              "      <td>...</td>\n",
              "      <td>...</td>\n",
              "      <td>...</td>\n",
              "      <td>...</td>\n",
              "      <td>...</td>\n",
              "      <td>...</td>\n",
              "    </tr>\n",
              "    <tr>\n",
              "      <th>268</th>\n",
              "      <td>N/C(=N\\O)c1ccc(-c2ccc(N3C[C@H](CNC(=O)C(F)(F)F...</td>\n",
              "      <td>4.238221</td>\n",
              "      <td>3.050043</td>\n",
              "      <td>0.174784</td>\n",
              "      <td>True</td>\n",
              "      <td>False</td>\n",
              "      <td>0.217277</td>\n",
              "      <td>2</td>\n",
              "    </tr>\n",
              "    <tr>\n",
              "      <th>269</th>\n",
              "      <td>COC(=O)c1ccc(C(=O)NC[C@H]2CN(c3ccc(-c4ccc(CNCc...</td>\n",
              "      <td>0.234301</td>\n",
              "      <td>3.339265</td>\n",
              "      <td>0.974633</td>\n",
              "      <td>True</td>\n",
              "      <td>False</td>\n",
              "      <td>0.254015</td>\n",
              "      <td>0</td>\n",
              "    </tr>\n",
              "    <tr>\n",
              "      <th>270</th>\n",
              "      <td>COC(=O)c1ccc(C(=O)NC[C@H]2CN(c3ccc(-c4ccc(CNCc...</td>\n",
              "      <td>0.177672</td>\n",
              "      <td>3.275886</td>\n",
              "      <td>0.955001</td>\n",
              "      <td>True</td>\n",
              "      <td>False</td>\n",
              "      <td>0.255942</td>\n",
              "      <td>0</td>\n",
              "    </tr>\n",
              "    <tr>\n",
              "      <th>271</th>\n",
              "      <td>CC(=O)NC[C@H]1CN(c2ccc(-c3ccc(CNC(=O)/C=C/c4cn...</td>\n",
              "      <td>3.024024</td>\n",
              "      <td>3.386139</td>\n",
              "      <td>0.984744</td>\n",
              "      <td>True</td>\n",
              "      <td>False</td>\n",
              "      <td>0.403721</td>\n",
              "      <td>0</td>\n",
              "    </tr>\n",
              "    <tr>\n",
              "      <th>272</th>\n",
              "      <td>COc1ccc(NCc2ccc(-c3ccc(N4C[C@H](CNC(C)=O)OC4=O...</td>\n",
              "      <td>5.083566</td>\n",
              "      <td>2.844107</td>\n",
              "      <td>0.948389</td>\n",
              "      <td>True</td>\n",
              "      <td>False</td>\n",
              "      <td>0.453613</td>\n",
              "      <td>0</td>\n",
              "    </tr>\n",
              "  </tbody>\n",
              "</table>\n",
              "<p>273 rows × 8 columns</p>\n",
              "</div>\n",
              "    <div class=\"colab-df-buttons\">\n",
              "\n",
              "  <div class=\"colab-df-container\">\n",
              "    <button class=\"colab-df-convert\" onclick=\"convertToInteractive('df-0e0c35f5-88b5-4c97-9c29-7c901cce0052')\"\n",
              "            title=\"Convert this dataframe to an interactive table.\"\n",
              "            style=\"display:none;\">\n",
              "\n",
              "  <svg xmlns=\"http://www.w3.org/2000/svg\" height=\"24px\" viewBox=\"0 -960 960 960\">\n",
              "    <path d=\"M120-120v-720h720v720H120Zm60-500h600v-160H180v160Zm220 220h160v-160H400v160Zm0 220h160v-160H400v160ZM180-400h160v-160H180v160Zm440 0h160v-160H620v160ZM180-180h160v-160H180v160Zm440 0h160v-160H620v160Z\"/>\n",
              "  </svg>\n",
              "    </button>\n",
              "\n",
              "  <style>\n",
              "    .colab-df-container {\n",
              "      display:flex;\n",
              "      gap: 12px;\n",
              "    }\n",
              "\n",
              "    .colab-df-convert {\n",
              "      background-color: #E8F0FE;\n",
              "      border: none;\n",
              "      border-radius: 50%;\n",
              "      cursor: pointer;\n",
              "      display: none;\n",
              "      fill: #1967D2;\n",
              "      height: 32px;\n",
              "      padding: 0 0 0 0;\n",
              "      width: 32px;\n",
              "    }\n",
              "\n",
              "    .colab-df-convert:hover {\n",
              "      background-color: #E2EBFA;\n",
              "      box-shadow: 0px 1px 2px rgba(60, 64, 67, 0.3), 0px 1px 3px 1px rgba(60, 64, 67, 0.15);\n",
              "      fill: #174EA6;\n",
              "    }\n",
              "\n",
              "    .colab-df-buttons div {\n",
              "      margin-bottom: 4px;\n",
              "    }\n",
              "\n",
              "    [theme=dark] .colab-df-convert {\n",
              "      background-color: #3B4455;\n",
              "      fill: #D2E3FC;\n",
              "    }\n",
              "\n",
              "    [theme=dark] .colab-df-convert:hover {\n",
              "      background-color: #434B5C;\n",
              "      box-shadow: 0px 1px 3px 1px rgba(0, 0, 0, 0.15);\n",
              "      filter: drop-shadow(0px 1px 2px rgba(0, 0, 0, 0.3));\n",
              "      fill: #FFFFFF;\n",
              "    }\n",
              "  </style>\n",
              "\n",
              "    <script>\n",
              "      const buttonEl =\n",
              "        document.querySelector('#df-0e0c35f5-88b5-4c97-9c29-7c901cce0052 button.colab-df-convert');\n",
              "      buttonEl.style.display =\n",
              "        google.colab.kernel.accessAllowed ? 'block' : 'none';\n",
              "\n",
              "      async function convertToInteractive(key) {\n",
              "        const element = document.querySelector('#df-0e0c35f5-88b5-4c97-9c29-7c901cce0052');\n",
              "        const dataTable =\n",
              "          await google.colab.kernel.invokeFunction('convertToInteractive',\n",
              "                                                    [key], {});\n",
              "        if (!dataTable) return;\n",
              "\n",
              "        const docLinkHtml = 'Like what you see? Visit the ' +\n",
              "          '<a target=\"_blank\" href=https://colab.research.google.com/notebooks/data_table.ipynb>data table notebook</a>'\n",
              "          + ' to learn more about interactive tables.';\n",
              "        element.innerHTML = '';\n",
              "        dataTable['output_type'] = 'display_data';\n",
              "        await google.colab.output.renderOutput(dataTable, element);\n",
              "        const docLink = document.createElement('div');\n",
              "        docLink.innerHTML = docLinkHtml;\n",
              "        element.appendChild(docLink);\n",
              "      }\n",
              "    </script>\n",
              "  </div>\n",
              "\n",
              "\n",
              "<div id=\"df-8a61eb8c-9621-4c90-ae5c-7dc18ce88ab5\">\n",
              "  <button class=\"colab-df-quickchart\" onclick=\"quickchart('df-8a61eb8c-9621-4c90-ae5c-7dc18ce88ab5')\"\n",
              "            title=\"Suggest charts\"\n",
              "            style=\"display:none;\">\n",
              "\n",
              "<svg xmlns=\"http://www.w3.org/2000/svg\" height=\"24px\"viewBox=\"0 0 24 24\"\n",
              "     width=\"24px\">\n",
              "    <g>\n",
              "        <path d=\"M19 3H5c-1.1 0-2 .9-2 2v14c0 1.1.9 2 2 2h14c1.1 0 2-.9 2-2V5c0-1.1-.9-2-2-2zM9 17H7v-7h2v7zm4 0h-2V7h2v10zm4 0h-2v-4h2v4z\"/>\n",
              "    </g>\n",
              "</svg>\n",
              "  </button>\n",
              "\n",
              "<style>\n",
              "  .colab-df-quickchart {\n",
              "      --bg-color: #E8F0FE;\n",
              "      --fill-color: #1967D2;\n",
              "      --hover-bg-color: #E2EBFA;\n",
              "      --hover-fill-color: #174EA6;\n",
              "      --disabled-fill-color: #AAA;\n",
              "      --disabled-bg-color: #DDD;\n",
              "  }\n",
              "\n",
              "  [theme=dark] .colab-df-quickchart {\n",
              "      --bg-color: #3B4455;\n",
              "      --fill-color: #D2E3FC;\n",
              "      --hover-bg-color: #434B5C;\n",
              "      --hover-fill-color: #FFFFFF;\n",
              "      --disabled-bg-color: #3B4455;\n",
              "      --disabled-fill-color: #666;\n",
              "  }\n",
              "\n",
              "  .colab-df-quickchart {\n",
              "    background-color: var(--bg-color);\n",
              "    border: none;\n",
              "    border-radius: 50%;\n",
              "    cursor: pointer;\n",
              "    display: none;\n",
              "    fill: var(--fill-color);\n",
              "    height: 32px;\n",
              "    padding: 0;\n",
              "    width: 32px;\n",
              "  }\n",
              "\n",
              "  .colab-df-quickchart:hover {\n",
              "    background-color: var(--hover-bg-color);\n",
              "    box-shadow: 0 1px 2px rgba(60, 64, 67, 0.3), 0 1px 3px 1px rgba(60, 64, 67, 0.15);\n",
              "    fill: var(--button-hover-fill-color);\n",
              "  }\n",
              "\n",
              "  .colab-df-quickchart-complete:disabled,\n",
              "  .colab-df-quickchart-complete:disabled:hover {\n",
              "    background-color: var(--disabled-bg-color);\n",
              "    fill: var(--disabled-fill-color);\n",
              "    box-shadow: none;\n",
              "  }\n",
              "\n",
              "  .colab-df-spinner {\n",
              "    border: 2px solid var(--fill-color);\n",
              "    border-color: transparent;\n",
              "    border-bottom-color: var(--fill-color);\n",
              "    animation:\n",
              "      spin 1s steps(1) infinite;\n",
              "  }\n",
              "\n",
              "  @keyframes spin {\n",
              "    0% {\n",
              "      border-color: transparent;\n",
              "      border-bottom-color: var(--fill-color);\n",
              "      border-left-color: var(--fill-color);\n",
              "    }\n",
              "    20% {\n",
              "      border-color: transparent;\n",
              "      border-left-color: var(--fill-color);\n",
              "      border-top-color: var(--fill-color);\n",
              "    }\n",
              "    30% {\n",
              "      border-color: transparent;\n",
              "      border-left-color: var(--fill-color);\n",
              "      border-top-color: var(--fill-color);\n",
              "      border-right-color: var(--fill-color);\n",
              "    }\n",
              "    40% {\n",
              "      border-color: transparent;\n",
              "      border-right-color: var(--fill-color);\n",
              "      border-top-color: var(--fill-color);\n",
              "    }\n",
              "    60% {\n",
              "      border-color: transparent;\n",
              "      border-right-color: var(--fill-color);\n",
              "    }\n",
              "    80% {\n",
              "      border-color: transparent;\n",
              "      border-right-color: var(--fill-color);\n",
              "      border-bottom-color: var(--fill-color);\n",
              "    }\n",
              "    90% {\n",
              "      border-color: transparent;\n",
              "      border-bottom-color: var(--fill-color);\n",
              "    }\n",
              "  }\n",
              "</style>\n",
              "\n",
              "  <script>\n",
              "    async function quickchart(key) {\n",
              "      const quickchartButtonEl =\n",
              "        document.querySelector('#' + key + ' button');\n",
              "      quickchartButtonEl.disabled = true;  // To prevent multiple clicks.\n",
              "      quickchartButtonEl.classList.add('colab-df-spinner');\n",
              "      try {\n",
              "        const charts = await google.colab.kernel.invokeFunction(\n",
              "            'suggestCharts', [key], {});\n",
              "      } catch (error) {\n",
              "        console.error('Error during call to suggestCharts:', error);\n",
              "      }\n",
              "      quickchartButtonEl.classList.remove('colab-df-spinner');\n",
              "      quickchartButtonEl.classList.add('colab-df-quickchart-complete');\n",
              "    }\n",
              "    (() => {\n",
              "      let quickchartButtonEl =\n",
              "        document.querySelector('#df-8a61eb8c-9621-4c90-ae5c-7dc18ce88ab5 button');\n",
              "      quickchartButtonEl.style.display =\n",
              "        google.colab.kernel.accessAllowed ? 'block' : 'none';\n",
              "    })();\n",
              "  </script>\n",
              "</div>\n",
              "    </div>\n",
              "  </div>\n"
            ]
          },
          "metadata": {},
          "execution_count": 24
        }
      ]
    },
    {
      "cell_type": "code",
      "source": [
        "df3['logMIC'] = df3.MIC.apply(lambda x: np.log10(x))\n",
        "df3.logMIC.hist(bins=30)"
      ],
      "metadata": {
        "colab": {
          "base_uri": "https://localhost:8080/",
          "height": 447
        },
        "outputId": "d725d096-95b4-469a-f077-6e466a49f55e",
        "id": "07dpM2LqxzDL"
      },
      "execution_count": null,
      "outputs": [
        {
          "output_type": "execute_result",
          "data": {
            "text/plain": [
              "<Axes: >"
            ]
          },
          "metadata": {},
          "execution_count": 25
        },
        {
          "output_type": "display_data",
          "data": {
            "text/plain": [
              "<Figure size 640x480 with 1 Axes>"
            ],
            "image/png": "[encoded data removed]"
          },
          "metadata": {}
        }
      ]
    },
    {
      "cell_type": "code",
      "source": [
        "df3.MIC.describe()"
      ],
      "metadata": {
        "colab": {
          "base_uri": "https://localhost:8080/"
        },
        "outputId": "dd9a5a29-61ea-4ce8-b283-41e7bdf431d5",
        "id": "grIXcKnnxzDM"
      },
      "execution_count": null,
      "outputs": [
        {
          "output_type": "execute_result",
          "data": {
            "text/plain": [
              "count    273.000000\n",
              "mean       2.896929\n",
              "std        3.629981\n",
              "min        0.177672\n",
              "25%        0.967474\n",
              "50%        1.928036\n",
              "75%        3.736327\n",
              "max       47.424477\n",
              "Name: MIC, dtype: float64"
            ]
          },
          "metadata": {},
          "execution_count": 43
        }
      ]
    },
    {
      "cell_type": "code",
      "source": [
        "df3.lipinski_ro5.value_counts()"
      ],
      "metadata": {
        "colab": {
          "base_uri": "https://localhost:8080/"
        },
        "outputId": "79f98b97-f3b2-4bda-d519-336671539cc9",
        "id": "b9j2yFqtxzDM"
      },
      "execution_count": null,
      "outputs": [
        {
          "output_type": "execute_result",
          "data": {
            "text/plain": [
              "True    273\n",
              "Name: lipinski_ro5, dtype: int64"
            ]
          },
          "metadata": {},
          "execution_count": 27
        }
      ]
    },
    {
      "cell_type": "code",
      "source": [
        "df3.lipinski_ro3.value_counts()"
      ],
      "metadata": {
        "colab": {
          "base_uri": "https://localhost:8080/"
        },
        "outputId": "b8e563a8-1f5b-4b31-8883-d170a8f784ff",
        "id": "MQywok18xzDM"
      },
      "execution_count": null,
      "outputs": [
        {
          "output_type": "execute_result",
          "data": {
            "text/plain": [
              "False    264\n",
              "True       9\n",
              "Name: lipinski_ro3, dtype: int64"
            ]
          },
          "metadata": {},
          "execution_count": 28
        }
      ]
    },
    {
      "cell_type": "code",
      "source": [
        "df3.tox_groups.value_counts()"
      ],
      "metadata": {
        "colab": {
          "base_uri": "https://localhost:8080/"
        },
        "outputId": "790cc713-af41-479a-ddb2-3474a7491b20",
        "id": "2d1WJpu7xzDN"
      },
      "execution_count": null,
      "outputs": [
        {
          "output_type": "execute_result",
          "data": {
            "text/plain": [
              "0    217\n",
              "1     39\n",
              "2     10\n",
              "3      7\n",
              "Name: tox_groups, dtype: int64"
            ]
          },
          "metadata": {},
          "execution_count": 29
        }
      ]
    },
    {
      "cell_type": "code",
      "source": [
        "df3.sascore.hist(bins=30)"
      ],
      "metadata": {
        "colab": {
          "base_uri": "https://localhost:8080/",
          "height": 447
        },
        "outputId": "3664d0ce-c183-4c9f-9cf9-92d05af6dd67",
        "id": "kJhAlMH9xzDN"
      },
      "execution_count": null,
      "outputs": [
        {
          "output_type": "execute_result",
          "data": {
            "text/plain": [
              "<Axes: >"
            ]
          },
          "metadata": {},
          "execution_count": 30
        },
        {
          "output_type": "display_data",
          "data": {
            "text/plain": [
              "<Figure size 640x480 with 1 Axes>"
            ],
            "image/png": "[encoded data removed]"
          },
          "metadata": {}
        }
      ]
    },
    {
      "cell_type": "code",
      "source": [
        "df3.sascore.describe()"
      ],
      "metadata": {
        "colab": {
          "base_uri": "https://localhost:8080/"
        },
        "outputId": "5830c0a7-d931-47ac-aee6-fcbd12029fc8",
        "id": "JQhU8If5xzDN"
      },
      "execution_count": null,
      "outputs": [
        {
          "output_type": "execute_result",
          "data": {
            "text/plain": [
              "count    273.000000\n",
              "mean       3.226898\n",
              "std        0.321365\n",
              "min        2.612846\n",
              "25%        2.981562\n",
              "50%        3.173913\n",
              "75%        3.478348\n",
              "max        4.155356\n",
              "Name: sascore, dtype: float64"
            ]
          },
          "metadata": {},
          "execution_count": 31
        }
      ]
    },
    {
      "cell_type": "code",
      "source": [
        "df3.QED.hist(bins=30)"
      ],
      "metadata": {
        "colab": {
          "base_uri": "https://localhost:8080/",
          "height": 447
        },
        "outputId": "fc038011-c14b-4850-8f3f-99199a6d8726",
        "id": "ta8fQ9Zg2rcY"
      },
      "execution_count": null,
      "outputs": [
        {
          "output_type": "execute_result",
          "data": {
            "text/plain": [
              "<Axes: >"
            ]
          },
          "metadata": {},
          "execution_count": 51
        },
        {
          "output_type": "display_data",
          "data": {
            "text/plain": [
              "<Figure size 640x480 with 1 Axes>"
            ],
            "image/png": "[encoded data removed]"
          },
          "metadata": {}
        }
      ]
    },
    {
      "cell_type": "code",
      "source": [
        "df3.QED.describe()"
      ],
      "metadata": {
        "colab": {
          "base_uri": "https://localhost:8080/"
        },
        "outputId": "70616304-1a6a-495c-cd0f-5c0a3d74652c",
        "id": "IbatRDL42rcY"
      },
      "execution_count": null,
      "outputs": [
        {
          "output_type": "execute_result",
          "data": {
            "text/plain": [
              "count    273.000000\n",
              "mean       0.659216\n",
              "std        0.173277\n",
              "min        0.217277\n",
              "25%        0.514520\n",
              "50%        0.666837\n",
              "75%        0.809110\n",
              "max        0.937198\n",
              "Name: QED, dtype: float64"
            ]
          },
          "metadata": {},
          "execution_count": 52
        }
      ]
    },
    {
      "cell_type": "markdown",
      "source": [
        "## Scaffolds"
      ],
      "metadata": {
        "id": "ggWzmdF_yFji"
      }
    },
    {
      "cell_type": "code",
      "source": [
        "df4 = pd.read_csv('reinvent_scaffolds_result.csv')\n",
        "df4"
      ],
      "metadata": {
        "colab": {
          "base_uri": "https://localhost:8080/",
          "height": 423
        },
        "outputId": "757be9f1-6441-4752-82a2-42b3b16cf35d",
        "id": "q3IZmO8fyDM_"
      },
      "execution_count": null,
      "outputs": [
        {
          "output_type": "execute_result",
          "data": {
            "text/plain": [
              "                                                smiles        MIC   sascore  \\\n",
              "0    CC(=O)NNc1c([NH:1][CH:1]2CN(c3cc[c:0]([CH2:0]c...   2.200361  3.577362   \n",
              "1    CC(C)(C)O[C:0](=O)[CH:0]1CN(c2cc[c:1]([CH3:1])...  11.891897  2.949691   \n",
              "2    C[C:0](C)(O)[CH:0]1OC(=O)N2c3cc[c:1](-[c:1]4cc...   2.740734  3.650824   \n",
              "3    COC(=O)c1ccc(C(C[CH2:1][c:1]2ccc(CC3NC(=O)O[CH...   5.233488  4.539374   \n",
              "4    C#C[C:1](F)(CC(=O)O)[CH:1]1CN(c2cc[c:0](-[c:0]...   3.657080  4.066805   \n",
              "..                                                 ...        ...       ...   \n",
              "188  COc1c[c:0]([CH:0]2OC(=O)NC2Cc2cc[c:1](-[c:1]3c...   5.216162  4.166182   \n",
              "189  CCC#C[C:1](C)(O)[CH:1]1CN(c2cc[c:0]([C:0](F)(F...  15.729779  3.697138   \n",
              "190  COCCOCCOc1ccc(C(F)(F)F)cc1N1CC[N:1]([c:1]2ccc(...   8.065883  3.673230   \n",
              "191  C[C:0](O)([CH:0]1OC(=O)N2c3cc[c:1](-[c:1]4nc(C...   0.798667  4.172106   \n",
              "192  COc1cc[c:0]([CH:0]2OC(=O)NC2Cc2cc[c:1](-[c:1]3...   8.497057  2.883414   \n",
              "\n",
              "      rascore  lipinski_ro5  lipinski_ro3       QED  tox_groups  \n",
              "0    0.433614          True         False  0.356117           0  \n",
              "1    0.899597          True          True  0.774424           0  \n",
              "2    0.065150          True         False  0.880028           0  \n",
              "3    0.018922          True         False  0.087756           4  \n",
              "4    0.921970          True         False  0.355081           1  \n",
              "..        ...           ...           ...       ...         ...  \n",
              "188  0.102972         False         False  0.179767           0  \n",
              "189  0.966027          True         False  0.848866           0  \n",
              "190  0.958852          True         False  0.242073           0  \n",
              "191  0.237027          True         False  0.752879           0  \n",
              "192  0.311241          True         False  0.660209           0  \n",
              "\n",
              "[193 rows x 8 columns]"
            ],
            "text/html": [
              "\n",
              "  <div id=\"df-4a48fed6-9ff2-410f-9a05-15e6e3b40a81\" class=\"colab-df-container\">\n",
              "    <div>\n",
              "<style scoped>\n",
              "    .dataframe tbody tr th:only-of-type {\n",
              "        vertical-align: middle;\n",
              "    }\n",
              "\n",
              "    .dataframe tbody tr th {\n",
              "        vertical-align: top;\n",
              "    }\n",
              "\n",
              "    .dataframe thead th {\n",
              "        text-align: right;\n",
              "    }\n",
              "</style>\n",
              "<table border=\"1\" class=\"dataframe\">\n",
              "  <thead>\n",
              "    <tr style=\"text-align: right;\">\n",
              "      <th></th>\n",
              "      <th>smiles</th>\n",
              "      <th>MIC</th>\n",
              "      <th>sascore</th>\n",
              "      <th>rascore</th>\n",
              "      <th>lipinski_ro5</th>\n",
              "      <th>lipinski_ro3</th>\n",
              "      <th>QED</th>\n",
              "      <th>tox_groups</th>\n",
              "    </tr>\n",
              "  </thead>\n",
              "  <tbody>\n",
              "    <tr>\n",
              "      <th>0</th>\n",
              "      <td>CC(=O)NNc1c([NH:1][CH:1]2CN(c3cc[c:0]([CH2:0]c...</td>\n",
              "      <td>2.200361</td>\n",
              "      <td>3.577362</td>\n",
              "      <td>0.433614</td>\n",
              "      <td>True</td>\n",
              "      <td>False</td>\n",
              "      <td>0.356117</td>\n",
              "      <td>0</td>\n",
              "    </tr>\n",
              "    <tr>\n",
              "      <th>1</th>\n",
              "      <td>CC(C)(C)O[C:0](=O)[CH:0]1CN(c2cc[c:1]([CH3:1])...</td>\n",
              "      <td>11.891897</td>\n",
              "      <td>2.949691</td>\n",
              "      <td>0.899597</td>\n",
              "      <td>True</td>\n",
              "      <td>True</td>\n",
              "      <td>0.774424</td>\n",
              "      <td>0</td>\n",
              "    </tr>\n",
              "    <tr>\n",
              "      <th>2</th>\n",
              "      <td>C[C:0](C)(O)[CH:0]1OC(=O)N2c3cc[c:1](-[c:1]4cc...</td>\n",
              "      <td>2.740734</td>\n",
              "      <td>3.650824</td>\n",
              "      <td>0.065150</td>\n",
              "      <td>True</td>\n",
              "      <td>False</td>\n",
              "      <td>0.880028</td>\n",
              "      <td>0</td>\n",
              "    </tr>\n",
              "    <tr>\n",
              "      <th>3</th>\n",
              "      <td>COC(=O)c1ccc(C(C[CH2:1][c:1]2ccc(CC3NC(=O)O[CH...</td>\n",
              "      <td>5.233488</td>\n",
              "      <td>4.539374</td>\n",
              "      <td>0.018922</td>\n",
              "      <td>True</td>\n",
              "      <td>False</td>\n",
              "      <td>0.087756</td>\n",
              "      <td>4</td>\n",
              "    </tr>\n",
              "    <tr>\n",
              "      <th>4</th>\n",
              "      <td>C#C[C:1](F)(CC(=O)O)[CH:1]1CN(c2cc[c:0](-[c:0]...</td>\n",
              "      <td>3.657080</td>\n",
              "      <td>4.066805</td>\n",
              "      <td>0.921970</td>\n",
              "      <td>True</td>\n",
              "      <td>False</td>\n",
              "      <td>0.355081</td>\n",
              "      <td>1</td>\n",
              "    </tr>\n",
              "    <tr>\n",
              "      <th>...</th>\n",
              "      <td>...</td>\n",
              "      <td>...</td>\n",
              "      <td>...</td>\n",
              "      <td>...</td>\n",
              "      <td>...</td>\n",
              "      <td>...</td>\n",
              "      <td>...</td>\n",
              "      <td>...</td>\n",
              "    </tr>\n",
              "    <tr>\n",
              "      <th>188</th>\n",
              "      <td>COc1c[c:0]([CH:0]2OC(=O)NC2Cc2cc[c:1](-[c:1]3c...</td>\n",
              "      <td>5.216162</td>\n",
              "      <td>4.166182</td>\n",
              "      <td>0.102972</td>\n",
              "      <td>False</td>\n",
              "      <td>False</td>\n",
              "      <td>0.179767</td>\n",
              "      <td>0</td>\n",
              "    </tr>\n",
              "    <tr>\n",
              "      <th>189</th>\n",
              "      <td>CCC#C[C:1](C)(O)[CH:1]1CN(c2cc[c:0]([C:0](F)(F...</td>\n",
              "      <td>15.729779</td>\n",
              "      <td>3.697138</td>\n",
              "      <td>0.966027</td>\n",
              "      <td>True</td>\n",
              "      <td>False</td>\n",
              "      <td>0.848866</td>\n",
              "      <td>0</td>\n",
              "    </tr>\n",
              "    <tr>\n",
              "      <th>190</th>\n",
              "      <td>COCCOCCOc1ccc(C(F)(F)F)cc1N1CC[N:1]([c:1]2ccc(...</td>\n",
              "      <td>8.065883</td>\n",
              "      <td>3.673230</td>\n",
              "      <td>0.958852</td>\n",
              "      <td>True</td>\n",
              "      <td>False</td>\n",
              "      <td>0.242073</td>\n",
              "      <td>0</td>\n",
              "    </tr>\n",
              "    <tr>\n",
              "      <th>191</th>\n",
              "      <td>C[C:0](O)([CH:0]1OC(=O)N2c3cc[c:1](-[c:1]4nc(C...</td>\n",
              "      <td>0.798667</td>\n",
              "      <td>4.172106</td>\n",
              "      <td>0.237027</td>\n",
              "      <td>True</td>\n",
              "      <td>False</td>\n",
              "      <td>0.752879</td>\n",
              "      <td>0</td>\n",
              "    </tr>\n",
              "    <tr>\n",
              "      <th>192</th>\n",
              "      <td>COc1cc[c:0]([CH:0]2OC(=O)NC2Cc2cc[c:1](-[c:1]3...</td>\n",
              "      <td>8.497057</td>\n",
              "      <td>2.883414</td>\n",
              "      <td>0.311241</td>\n",
              "      <td>True</td>\n",
              "      <td>False</td>\n",
              "      <td>0.660209</td>\n",
              "      <td>0</td>\n",
              "    </tr>\n",
              "  </tbody>\n",
              "</table>\n",
              "<p>193 rows × 8 columns</p>\n",
              "</div>\n",
              "    <div class=\"colab-df-buttons\">\n",
              "\n",
              "  <div class=\"colab-df-container\">\n",
              "    <button class=\"colab-df-convert\" onclick=\"convertToInteractive('df-4a48fed6-9ff2-410f-9a05-15e6e3b40a81')\"\n",
              "            title=\"Convert this dataframe to an interactive table.\"\n",
              "            style=\"display:none;\">\n",
              "\n",
              "  <svg xmlns=\"http://www.w3.org/2000/svg\" height=\"24px\" viewBox=\"0 -960 960 960\">\n",
              "    <path d=\"M120-120v-720h720v720H120Zm60-500h600v-160H180v160Zm220 220h160v-160H400v160Zm0 220h160v-160H400v160ZM180-400h160v-160H180v160Zm440 0h160v-160H620v160ZM180-180h160v-160H180v160Zm440 0h160v-160H620v160Z\"/>\n",
              "  </svg>\n",
              "    </button>\n",
              "\n",
              "  <style>\n",
              "    .colab-df-container {\n",
              "      display:flex;\n",
              "      gap: 12px;\n",
              "    }\n",
              "\n",
              "    .colab-df-convert {\n",
              "      background-color: #E8F0FE;\n",
              "      border: none;\n",
              "      border-radius: 50%;\n",
              "      cursor: pointer;\n",
              "      display: none;\n",
              "      fill: #1967D2;\n",
              "      height: 32px;\n",
              "      padding: 0 0 0 0;\n",
              "      width: 32px;\n",
              "    }\n",
              "\n",
              "    .colab-df-convert:hover {\n",
              "      background-color: #E2EBFA;\n",
              "      box-shadow: 0px 1px 2px rgba(60, 64, 67, 0.3), 0px 1px 3px 1px rgba(60, 64, 67, 0.15);\n",
              "      fill: #174EA6;\n",
              "    }\n",
              "\n",
              "    .colab-df-buttons div {\n",
              "      margin-bottom: 4px;\n",
              "    }\n",
              "\n",
              "    [theme=dark] .colab-df-convert {\n",
              "      background-color: #3B4455;\n",
              "      fill: #D2E3FC;\n",
              "    }\n",
              "\n",
              "    [theme=dark] .colab-df-convert:hover {\n",
              "      background-color: #434B5C;\n",
              "      box-shadow: 0px 1px 3px 1px rgba(0, 0, 0, 0.15);\n",
              "      filter: drop-shadow(0px 1px 2px rgba(0, 0, 0, 0.3));\n",
              "      fill: #FFFFFF;\n",
              "    }\n",
              "  </style>\n",
              "\n",
              "    <script>\n",
              "      const buttonEl =\n",
              "        document.querySelector('#df-4a48fed6-9ff2-410f-9a05-15e6e3b40a81 button.colab-df-convert');\n",
              "      buttonEl.style.display =\n",
              "        google.colab.kernel.accessAllowed ? 'block' : 'none';\n",
              "\n",
              "      async function convertToInteractive(key) {\n",
              "        const element = document.querySelector('#df-4a48fed6-9ff2-410f-9a05-15e6e3b40a81');\n",
              "        const dataTable =\n",
              "          await google.colab.kernel.invokeFunction('convertToInteractive',\n",
              "                                                    [key], {});\n",
              "        if (!dataTable) return;\n",
              "\n",
              "        const docLinkHtml = 'Like what you see? Visit the ' +\n",
              "          '<a target=\"_blank\" href=https://colab.research.google.com/notebooks/data_table.ipynb>data table notebook</a>'\n",
              "          + ' to learn more about interactive tables.';\n",
              "        element.innerHTML = '';\n",
              "        dataTable['output_type'] = 'display_data';\n",
              "        await google.colab.output.renderOutput(dataTable, element);\n",
              "        const docLink = document.createElement('div');\n",
              "        docLink.innerHTML = docLinkHtml;\n",
              "        element.appendChild(docLink);\n",
              "      }\n",
              "    </script>\n",
              "  </div>\n",
              "\n",
              "\n",
              "<div id=\"df-f6d9346f-e730-47d2-97ba-7d9e87dd15cb\">\n",
              "  <button class=\"colab-df-quickchart\" onclick=\"quickchart('df-f6d9346f-e730-47d2-97ba-7d9e87dd15cb')\"\n",
              "            title=\"Suggest charts\"\n",
              "            style=\"display:none;\">\n",
              "\n",
              "<svg xmlns=\"http://www.w3.org/2000/svg\" height=\"24px\"viewBox=\"0 0 24 24\"\n",
              "     width=\"24px\">\n",
              "    <g>\n",
              "        <path d=\"M19 3H5c-1.1 0-2 .9-2 2v14c0 1.1.9 2 2 2h14c1.1 0 2-.9 2-2V5c0-1.1-.9-2-2-2zM9 17H7v-7h2v7zm4 0h-2V7h2v10zm4 0h-2v-4h2v4z\"/>\n",
              "    </g>\n",
              "</svg>\n",
              "  </button>\n",
              "\n",
              "<style>\n",
              "  .colab-df-quickchart {\n",
              "      --bg-color: #E8F0FE;\n",
              "      --fill-color: #1967D2;\n",
              "      --hover-bg-color: #E2EBFA;\n",
              "      --hover-fill-color: #174EA6;\n",
              "      --disabled-fill-color: #AAA;\n",
              "      --disabled-bg-color: #DDD;\n",
              "  }\n",
              "\n",
              "  [theme=dark] .colab-df-quickchart {\n",
              "      --bg-color: #3B4455;\n",
              "      --fill-color: #D2E3FC;\n",
              "      --hover-bg-color: #434B5C;\n",
              "      --hover-fill-color: #FFFFFF;\n",
              "      --disabled-bg-color: #3B4455;\n",
              "      --disabled-fill-color: #666;\n",
              "  }\n",
              "\n",
              "  .colab-df-quickchart {\n",
              "    background-color: var(--bg-color);\n",
              "    border: none;\n",
              "    border-radius: 50%;\n",
              "    cursor: pointer;\n",
              "    display: none;\n",
              "    fill: var(--fill-color);\n",
              "    height: 32px;\n",
              "    padding: 0;\n",
              "    width: 32px;\n",
              "  }\n",
              "\n",
              "  .colab-df-quickchart:hover {\n",
              "    background-color: var(--hover-bg-color);\n",
              "    box-shadow: 0 1px 2px rgba(60, 64, 67, 0.3), 0 1px 3px 1px rgba(60, 64, 67, 0.15);\n",
              "    fill: var(--button-hover-fill-color);\n",
              "  }\n",
              "\n",
              "  .colab-df-quickchart-complete:disabled,\n",
              "  .colab-df-quickchart-complete:disabled:hover {\n",
              "    background-color: var(--disabled-bg-color);\n",
              "    fill: var(--disabled-fill-color);\n",
              "    box-shadow: none;\n",
              "  }\n",
              "\n",
              "  .colab-df-spinner {\n",
              "    border: 2px solid var(--fill-color);\n",
              "    border-color: transparent;\n",
              "    border-bottom-color: var(--fill-color);\n",
              "    animation:\n",
              "      spin 1s steps(1) infinite;\n",
              "  }\n",
              "\n",
              "  @keyframes spin {\n",
              "    0% {\n",
              "      border-color: transparent;\n",
              "      border-bottom-color: var(--fill-color);\n",
              "      border-left-color: var(--fill-color);\n",
              "    }\n",
              "    20% {\n",
              "      border-color: transparent;\n",
              "      border-left-color: var(--fill-color);\n",
              "      border-top-color: var(--fill-color);\n",
              "    }\n",
              "    30% {\n",
              "      border-color: transparent;\n",
              "      border-left-color: var(--fill-color);\n",
              "      border-top-color: var(--fill-color);\n",
              "      border-right-color: var(--fill-color);\n",
              "    }\n",
              "    40% {\n",
              "      border-color: transparent;\n",
              "      border-right-color: var(--fill-color);\n",
              "      border-top-color: var(--fill-color);\n",
              "    }\n",
              "    60% {\n",
              "      border-color: transparent;\n",
              "      border-right-color: var(--fill-color);\n",
              "    }\n",
              "    80% {\n",
              "      border-color: transparent;\n",
              "      border-right-color: var(--fill-color);\n",
              "      border-bottom-color: var(--fill-color);\n",
              "    }\n",
              "    90% {\n",
              "      border-color: transparent;\n",
              "      border-bottom-color: var(--fill-color);\n",
              "    }\n",
              "  }\n",
              "</style>\n",
              "\n",
              "  <script>\n",
              "    async function quickchart(key) {\n",
              "      const quickchartButtonEl =\n",
              "        document.querySelector('#' + key + ' button');\n",
              "      quickchartButtonEl.disabled = true;  // To prevent multiple clicks.\n",
              "      quickchartButtonEl.classList.add('colab-df-spinner');\n",
              "      try {\n",
              "        const charts = await google.colab.kernel.invokeFunction(\n",
              "            'suggestCharts', [key], {});\n",
              "      } catch (error) {\n",
              "        console.error('Error during call to suggestCharts:', error);\n",
              "      }\n",
              "      quickchartButtonEl.classList.remove('colab-df-spinner');\n",
              "      quickchartButtonEl.classList.add('colab-df-quickchart-complete');\n",
              "    }\n",
              "    (() => {\n",
              "      let quickchartButtonEl =\n",
              "        document.querySelector('#df-f6d9346f-e730-47d2-97ba-7d9e87dd15cb button');\n",
              "      quickchartButtonEl.style.display =\n",
              "        google.colab.kernel.accessAllowed ? 'block' : 'none';\n",
              "    })();\n",
              "  </script>\n",
              "</div>\n",
              "    </div>\n",
              "  </div>\n"
            ]
          },
          "metadata": {},
          "execution_count": 32
        }
      ]
    },
    {
      "cell_type": "code",
      "source": [
        "df4['logMIC'] = df4.MIC.apply(lambda x: np.log10(x))\n",
        "df4.logMIC.hist(bins=30)"
      ],
      "metadata": {
        "colab": {
          "base_uri": "https://localhost:8080/",
          "height": 447
        },
        "outputId": "e9d3e8a1-34bb-4d6d-a36a-7351c86d425d",
        "id": "i9-snoxUyDM_"
      },
      "execution_count": null,
      "outputs": [
        {
          "output_type": "execute_result",
          "data": {
            "text/plain": [
              "<Axes: >"
            ]
          },
          "metadata": {},
          "execution_count": 34
        },
        {
          "output_type": "display_data",
          "data": {
            "text/plain": [
              "<Figure size 640x480 with 1 Axes>"
            ],
            "image/png": "[encoded data removed]"
          },
          "metadata": {}
        }
      ]
    },
    {
      "cell_type": "code",
      "source": [
        "df4.MIC.describe()"
      ],
      "metadata": {
        "colab": {
          "base_uri": "https://localhost:8080/"
        },
        "outputId": "45161b6c-8061-4c40-b700-eebf05a06cd5",
        "id": "2BbBlgtHyDNA"
      },
      "execution_count": null,
      "outputs": [
        {
          "output_type": "execute_result",
          "data": {
            "text/plain": [
              "count    193.000000\n",
              "mean       6.908948\n",
              "std        5.832903\n",
              "min        0.204549\n",
              "25%        2.723653\n",
              "50%        5.216162\n",
              "75%        9.182643\n",
              "max       34.556437\n",
              "Name: MIC, dtype: float64"
            ]
          },
          "metadata": {},
          "execution_count": 44
        }
      ]
    },
    {
      "cell_type": "code",
      "source": [
        "df4.lipinski_ro5.value_counts()"
      ],
      "metadata": {
        "colab": {
          "base_uri": "https://localhost:8080/"
        },
        "outputId": "1f288f67-16b1-4edf-a4bb-bbbcad5a6372",
        "id": "lveRx2vTyDNA"
      },
      "execution_count": null,
      "outputs": [
        {
          "output_type": "execute_result",
          "data": {
            "text/plain": [
              "True     183\n",
              "False     10\n",
              "Name: lipinski_ro5, dtype: int64"
            ]
          },
          "metadata": {},
          "execution_count": 36
        }
      ]
    },
    {
      "cell_type": "code",
      "source": [
        "df4.lipinski_ro3.value_counts()"
      ],
      "metadata": {
        "colab": {
          "base_uri": "https://localhost:8080/"
        },
        "outputId": "489ab18f-54d3-4f6a-daf8-652edad72b45",
        "id": "6i02RclfyDNA"
      },
      "execution_count": null,
      "outputs": [
        {
          "output_type": "execute_result",
          "data": {
            "text/plain": [
              "False    170\n",
              "True      23\n",
              "Name: lipinski_ro3, dtype: int64"
            ]
          },
          "metadata": {},
          "execution_count": 37
        }
      ]
    },
    {
      "cell_type": "code",
      "source": [
        "df4.tox_groups.value_counts()"
      ],
      "metadata": {
        "colab": {
          "base_uri": "https://localhost:8080/"
        },
        "outputId": "353d1bc0-d414-49f8-ea25-d0b4a95915aa",
        "id": "FKS58CS1yDNA"
      },
      "execution_count": null,
      "outputs": [
        {
          "output_type": "execute_result",
          "data": {
            "text/plain": [
              "0    160\n",
              "1     26\n",
              "2      4\n",
              "3      2\n",
              "4      1\n",
              "Name: tox_groups, dtype: int64"
            ]
          },
          "metadata": {},
          "execution_count": 38
        }
      ]
    },
    {
      "cell_type": "code",
      "source": [
        "df4.sascore.hist(bins=30)"
      ],
      "metadata": {
        "colab": {
          "base_uri": "https://localhost:8080/",
          "height": 447
        },
        "outputId": "c712abe1-7b68-448d-a23a-254fa89028b4",
        "id": "OnikxDwRyDNA"
      },
      "execution_count": null,
      "outputs": [
        {
          "output_type": "execute_result",
          "data": {
            "text/plain": [
              "<Axes: >"
            ]
          },
          "metadata": {},
          "execution_count": 39
        },
        {
          "output_type": "display_data",
          "data": {
            "text/plain": [
              "<Figure size 640x480 with 1 Axes>"
            ],
            "image/png": "[encoded data removed]"
          },
          "metadata": {}
        }
      ]
    },
    {
      "cell_type": "code",
      "source": [
        "df4.sascore.describe()"
      ],
      "metadata": {
        "colab": {
          "base_uri": "https://localhost:8080/"
        },
        "outputId": "d8747c9d-029f-4061-ecf3-af500344cf56",
        "id": "MrDApKvKyDNB"
      },
      "execution_count": null,
      "outputs": [
        {
          "output_type": "execute_result",
          "data": {
            "text/plain": [
              "count    193.000000\n",
              "mean       3.667663\n",
              "std        0.513599\n",
              "min        2.523292\n",
              "25%        3.303848\n",
              "50%        3.609292\n",
              "75%        4.018616\n",
              "max        5.889330\n",
              "Name: sascore, dtype: float64"
            ]
          },
          "metadata": {},
          "execution_count": 40
        }
      ]
    },
    {
      "cell_type": "code",
      "source": [
        "df4.QED.hist(bins=30)"
      ],
      "metadata": {
        "colab": {
          "base_uri": "https://localhost:8080/",
          "height": 447
        },
        "outputId": "a6483cdf-7d9a-4f61-ec04-5cecc4a84ded",
        "id": "UBHzAd2n2x_1"
      },
      "execution_count": null,
      "outputs": [
        {
          "output_type": "execute_result",
          "data": {
            "text/plain": [
              "<Axes: >"
            ]
          },
          "metadata": {},
          "execution_count": 53
        },
        {
          "output_type": "display_data",
          "data": {
            "text/plain": [
              "<Figure size 640x480 with 1 Axes>"
            ],
            "image/png": "[encoded data removed]"
          },
          "metadata": {}
        }
      ]
    },
    {
      "cell_type": "code",
      "source": [
        "df4.QED.describe()"
      ],
      "metadata": {
        "colab": {
          "base_uri": "https://localhost:8080/"
        },
        "outputId": "d61aad2a-1f4d-402b-d59a-91226f4692a9",
        "id": "gvzYHxj22x_2"
      },
      "execution_count": null,
      "outputs": [
        {
          "output_type": "execute_result",
          "data": {
            "text/plain": [
              "count    193.000000\n",
              "mean       0.632074\n",
              "std        0.206069\n",
              "min        0.087756\n",
              "25%        0.529142\n",
              "50%        0.686353\n",
              "75%        0.788228\n",
              "max        0.940620\n",
              "Name: QED, dtype: float64"
            ]
          },
          "metadata": {},
          "execution_count": 54
        }
      ]
    }
  ]
}